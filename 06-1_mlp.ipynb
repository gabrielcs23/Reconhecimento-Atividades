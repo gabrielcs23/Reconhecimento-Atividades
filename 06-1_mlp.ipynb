{
 "cells": [
  {
   "cell_type": "code",
   "execution_count": 1,
   "metadata": {
    "collapsed": true,
    "id": "VnsO0o7PTOmc",
    "executionInfo": {
     "status": "ok",
     "timestamp": 1639252249452,
     "user_tz": 180,
     "elapsed": 679,
     "user": {
      "displayName": "Gabriel Costa E Silva",
      "photoUrl": "https://lh3.googleusercontent.com/a-/AOh14GhEXO0ldSegoXrOctbJpx9p8bSLz_l_dslHSZYi9Q=s64",
      "userId": "06817854615097805133"
     }
    }
   },
   "outputs": [],
   "source": [
    "import pandas as pd\n",
    "import numpy as np\n",
    "import matplotlib.pyplot as plt\n",
    "import seaborn as sns\n",
    "\n",
    "from sklearn.metrics import classification_report, confusion_matrix,\\\n",
    "    accuracy_score, make_scorer\n",
    "from sklearn.model_selection import cross_val_score\n",
    "from sklearn.neural_network import MLPClassifier\n"
   ]
  },
  {
   "cell_type": "code",
   "source": [
    "from google.colab import drive\n",
    "drive.mount('/content/drive')"
   ],
   "metadata": {
    "colab": {
     "base_uri": "https://localhost:8080/"
    },
    "id": "XhznRRkKDBOB",
    "executionInfo": {
     "status": "ok",
     "timestamp": 1639252267966,
     "user_tz": 180,
     "elapsed": 17334,
     "user": {
      "displayName": "Gabriel Costa E Silva",
      "photoUrl": "https://lh3.googleusercontent.com/a-/AOh14GhEXO0ldSegoXrOctbJpx9p8bSLz_l_dslHSZYi9Q=s64",
      "userId": "06817854615097805133"
     }
    },
    "outputId": "2e94e88c-87eb-4a92-836c-90c7e9dcb17c"
   },
   "execution_count": 2,
   "outputs": [
    {
     "output_type": "stream",
     "name": "stdout",
     "text": [
      "Mounted at /content/drive\n"
     ]
    }
   ]
  },
  {
   "cell_type": "code",
   "source": [
    "cd drive/MyDrive/UFF/TCC/Implementação/"
   ],
   "metadata": {
    "colab": {
     "base_uri": "https://localhost:8080/"
    },
    "id": "XYPdXAyFDDAZ",
    "executionInfo": {
     "status": "ok",
     "timestamp": 1639252324670,
     "user_tz": 180,
     "elapsed": 214,
     "user": {
      "displayName": "Gabriel Costa E Silva",
      "photoUrl": "https://lh3.googleusercontent.com/a-/AOh14GhEXO0ldSegoXrOctbJpx9p8bSLz_l_dslHSZYi9Q=s64",
      "userId": "06817854615097805133"
     }
    },
    "outputId": "21e42190-c41b-40fb-931c-12394abd0030"
   },
   "execution_count": 3,
   "outputs": [
    {
     "output_type": "stream",
     "name": "stdout",
     "text": [
      "/content/drive/MyDrive/UFF/TCC/Implementação\n"
     ]
    }
   ]
  },
  {
   "cell_type": "code",
   "execution_count": 4,
   "metadata": {
    "pycharm": {
     "name": "#%%\n"
    },
    "id": "zn7x7l6NTOmg",
    "executionInfo": {
     "status": "ok",
     "timestamp": 1639252331551,
     "user_tz": 180,
     "elapsed": 4677,
     "user": {
      "displayName": "Gabriel Costa E Silva",
      "photoUrl": "https://lh3.googleusercontent.com/a-/AOh14GhEXO0ldSegoXrOctbJpx9p8bSLz_l_dslHSZYi9Q=s64",
      "userId": "06817854615097805133"
     }
    }
   },
   "outputs": [],
   "source": [
    "df = pd.read_csv('dataset.csv')\n",
    "X = df.drop(columns=['Activity'])\n",
    "y = df['Activity']\n",
    "\n",
    "# balanced_accuracy = (recall + specificity) / 2\n",
    "metrics = ['f1_weighted', 'balanced_accuracy', 'accuracy']"
   ]
  },
  {
   "cell_type": "code",
   "execution_count": 5,
   "outputs": [],
   "source": [
    "# Variables for average classification report\n",
    "originalclass = []\n",
    "predictedclass = []\n",
    "\n",
    "#Make our customer score\n",
    "def classification_report_with_accuracy_score(y_true, y_pred):\n",
    "    originalclass.extend(y_true)\n",
    "    predictedclass.extend(y_pred)\n",
    "    return accuracy_score(y_true, y_pred) # return accuracy score"
   ],
   "metadata": {
    "pycharm": {
     "name": "#%%\n"
    },
    "id": "yXiuqWlUTOmi",
    "executionInfo": {
     "status": "ok",
     "timestamp": 1639252336698,
     "user_tz": 180,
     "elapsed": 217,
     "user": {
      "displayName": "Gabriel Costa E Silva",
      "photoUrl": "https://lh3.googleusercontent.com/a-/AOh14GhEXO0ldSegoXrOctbJpx9p8bSLz_l_dslHSZYi9Q=s64",
      "userId": "06817854615097805133"
     }
    }
   }
  },
  {
   "cell_type": "markdown",
   "metadata": {
    "pycharm": {
     "name": "#%% md\n"
    },
    "id": "BTziYqUcTOmj"
   },
   "source": [
    "## Report"
   ]
  },
  {
   "cell_type": "code",
   "execution_count": null,
   "outputs": [
    {
     "name": "stdout",
     "output_type": "stream",
     "text": [
      "Accuracy\n",
      "mean = 95.18%;\tstd = 0.02;\n",
      "                    precision    recall  f1-score   support\n",
      "\n",
      "            LAYING       0.99      1.00      1.00      1958\n",
      "        LIE_TO_SIT       0.64      0.68      0.66        85\n",
      "      LIE_TO_STAND       0.63      0.56      0.59        84\n",
      "           SITTING       0.93      0.95      0.94      1801\n",
      "        SIT_TO_LIE       0.73      0.75      0.74       107\n",
      "      SIT_TO_STAND       0.94      1.00      0.97        33\n",
      "          STANDING       0.96      0.94      0.95      1979\n",
      "      STAND_TO_LIE       0.77      0.75      0.76       139\n",
      "      STAND_TO_SIT       0.89      0.80      0.84        70\n",
      "           WALKING       0.97      0.95      0.96      1722\n",
      "WALKING_DOWNSTAIRS       0.97      0.98      0.97      1407\n",
      "  WALKING_UPSTAIRS       0.94      0.96      0.95      1544\n",
      "\n",
      "          accuracy                           0.95     10929\n",
      "         macro avg       0.86      0.86      0.86     10929\n",
      "      weighted avg       0.95      0.95      0.95     10929\n",
      "\n"
     ]
    }
   ],
   "source": [
    "mlp = MLPClassifier(activation = 'logistic',\n",
    "                    solver='adam',\n",
    "                    alpha=1e-5,\n",
    "                    learning_rate = 'invscaling',\n",
    "                    max_iter = 500,\n",
    "                    hidden_layer_sizes=(200,),\n",
    "                    random_state=42)\n",
    "\n",
    "acc = cross_val_score(mlp, X=X, y=y, cv=10,\n",
    "                      scoring=make_scorer(\n",
    "                          classification_report_with_accuracy_score\n",
    "                      ))\n",
    "\n",
    "print(\"Accuracy\")\n",
    "print(\"mean = {mean:.2f}%;\\tstd = {std:.2f};\"\n",
    "      .format(mean = acc.mean()*100,\n",
    "              std = acc.std()))\n",
    "\n",
    "# Average values in classification report for all folds in a K-fold Cross-validation\n",
    "print(classification_report(originalclass, predictedclass))"
   ],
   "metadata": {
    "pycharm": {
     "name": "#%%\n"
    },
    "id": "9SXhyFMxTOmk",
    "outputId": "f5e8fcc8-12a1-4c03-fe50-3b9833b762c4"
   }
  },
  {
   "cell_type": "code",
   "execution_count": null,
   "outputs": [
    {
     "data": {
      "text/plain": "<matplotlib.axes._subplots.AxesSubplot at 0x7f8673c12f40>"
     },
     "execution_count": 5,
     "metadata": {},
     "output_type": "execute_result"
    },
    {
     "data": {
      "text/plain": "<Figure size 936x720 with 2 Axes>",
      "image/png": "[encoded data removed]"
     },
     "metadata": {
      "needs_background": "light"
     },
     "output_type": "display_data"
    }
   ],
   "source": [
    "cf_matrix = confusion_matrix(originalclass, predictedclass)\n",
    "\n",
    "categories = np.unique(y).tolist()\n",
    "plt.figure(figsize=(13,10))\n",
    "plt.title('Classificação Única')\n",
    "sns.heatmap(cf_matrix, annot=True, fmt=\"\", cmap='Blues', cbar=True, xticklabels=categories, yticklabels=categories)\n"
   ],
   "metadata": {
    "pycharm": {
     "name": "#%%\n"
    },
    "id": "ezsc8wKeTOml",
    "outputId": "fd20e6f9-5f91-41c8-c1b6-b8a7937e748b"
   }
  },
  {
   "cell_type": "markdown",
   "source": [
    "# Oversample"
   ],
   "metadata": {
    "id": "IX1nRP3aU9q8"
   }
  },
  {
   "cell_type": "code",
   "source": [
    "!pip install imblearn"
   ],
   "metadata": {
    "colab": {
     "base_uri": "https://localhost:8080/"
    },
    "id": "zQBH_Lt2VCCq",
    "executionInfo": {
     "status": "ok",
     "timestamp": 1639252347355,
     "user_tz": 180,
     "elapsed": 4140,
     "user": {
      "displayName": "Gabriel Costa E Silva",
      "photoUrl": "https://lh3.googleusercontent.com/a-/AOh14GhEXO0ldSegoXrOctbJpx9p8bSLz_l_dslHSZYi9Q=s64",
      "userId": "06817854615097805133"
     }
    },
    "outputId": "6282eb08-86b5-4791-9fc9-b081c7eb57d5"
   },
   "execution_count": 6,
   "outputs": [
    {
     "output_type": "stream",
     "name": "stdout",
     "text": [
      "Requirement already satisfied: imblearn in /usr/local/lib/python3.7/dist-packages (0.0)\n",
      "Requirement already satisfied: imbalanced-learn in /usr/local/lib/python3.7/dist-packages (from imblearn) (0.8.1)\n",
      "Requirement already satisfied: scikit-learn>=0.24 in /usr/local/lib/python3.7/dist-packages (from imbalanced-learn->imblearn) (1.0.1)\n",
      "Requirement already satisfied: scipy>=0.19.1 in /usr/local/lib/python3.7/dist-packages (from imbalanced-learn->imblearn) (1.4.1)\n",
      "Requirement already satisfied: joblib>=0.11 in /usr/local/lib/python3.7/dist-packages (from imbalanced-learn->imblearn) (1.1.0)\n",
      "Requirement already satisfied: numpy>=1.13.3 in /usr/local/lib/python3.7/dist-packages (from imbalanced-learn->imblearn) (1.19.5)\n",
      "Requirement already satisfied: threadpoolctl>=2.0.0 in /usr/local/lib/python3.7/dist-packages (from scikit-learn>=0.24->imbalanced-learn->imblearn) (3.0.0)\n"
     ]
    }
   ]
  },
  {
   "cell_type": "code",
   "source": [
    "from sklearn.preprocessing import StandardScaler\n",
    "from imblearn.over_sampling import SMOTE\n",
    "from imblearn.pipeline import make_pipeline"
   ],
   "metadata": {
    "id": "MWPwyhO-VGcl",
    "executionInfo": {
     "status": "ok",
     "timestamp": 1639252350263,
     "user_tz": 180,
     "elapsed": 845,
     "user": {
      "displayName": "Gabriel Costa E Silva",
      "photoUrl": "https://lh3.googleusercontent.com/a-/AOh14GhEXO0ldSegoXrOctbJpx9p8bSLz_l_dslHSZYi9Q=s64",
      "userId": "06817854615097805133"
     }
    }
   },
   "execution_count": 7,
   "outputs": []
  },
  {
   "cell_type": "code",
   "source": [
    "originalclass = []\n",
    "predictedclass = []\n",
    "\n",
    "mlp = MLPClassifier(activation = 'logistic',\n",
    "                    solver='adam',\n",
    "                    alpha=1e-5,\n",
    "                    learning_rate = 'invscaling',\n",
    "                    max_iter = 500,\n",
    "                    hidden_layer_sizes=(250,),\n",
    "                    random_state=42)\n",
    "\n",
    "steps = [StandardScaler(), SMOTE(random_state=42), mlp]\n",
    "imba_pipeline = make_pipeline(*steps)\n",
    "\n",
    "acc = cross_val_score(imba_pipeline, X=X, y=y, cv=10,\n",
    "                      scoring=make_scorer(\n",
    "                          classification_report_with_accuracy_score\n",
    "                      ))\n",
    "\n",
    "print(\"Accuracy\")\n",
    "print(\"mean = {mean:.2f}%;\\tstd = {std:.2f};\"\n",
    "      .format(mean = acc.mean()*100,\n",
    "              std = acc.std()))\n",
    "\n",
    "# Average values in classification report for all folds in a K-fold Cross-validation\n",
    "print(classification_report(originalclass, predictedclass))"
   ],
   "metadata": {
    "colab": {
     "base_uri": "https://localhost:8080/"
    },
    "id": "mqaRw-uuWCX8",
    "executionInfo": {
     "status": "ok",
     "timestamp": 1639253159245,
     "user_tz": 180,
     "elapsed": 801001,
     "user": {
      "displayName": "Gabriel Costa E Silva",
      "photoUrl": "https://lh3.googleusercontent.com/a-/AOh14GhEXO0ldSegoXrOctbJpx9p8bSLz_l_dslHSZYi9Q=s64",
      "userId": "06817854615097805133"
     }
    },
    "outputId": "4df9db9b-dfae-4e52-f800-ad21a0d8e574"
   },
   "execution_count": 8,
   "outputs": [
    {
     "output_type": "stream",
     "name": "stdout",
     "text": [
      "Accuracy\n",
      "mean = 94.89%;\tstd = 0.02;\n",
      "                    precision    recall  f1-score   support\n",
      "\n",
      "            LAYING       0.99      1.00      0.99      1958\n",
      "        LIE_TO_SIT       0.68      0.68      0.68        85\n",
      "      LIE_TO_STAND       0.65      0.63      0.64        84\n",
      "           SITTING       0.94      0.93      0.93      1801\n",
      "        SIT_TO_LIE       0.71      0.74      0.72       107\n",
      "      SIT_TO_STAND       0.86      0.97      0.91        33\n",
      "          STANDING       0.94      0.94      0.94      1979\n",
      "      STAND_TO_LIE       0.75      0.74      0.75       139\n",
      "      STAND_TO_SIT       0.90      0.81      0.86        70\n",
      "           WALKING       0.97      0.95      0.96      1722\n",
      "WALKING_DOWNSTAIRS       0.97      0.98      0.97      1407\n",
      "  WALKING_UPSTAIRS       0.94      0.96      0.95      1544\n",
      "\n",
      "          accuracy                           0.95     10929\n",
      "         macro avg       0.86      0.86      0.86     10929\n",
      "      weighted avg       0.95      0.95      0.95     10929\n",
      "\n"
     ]
    }
   ]
  }
 ],
 "metadata": {
  "kernelspec": {
   "display_name": "Python 3",
   "language": "python",
   "name": "python3"
  },
  "language_info": {
   "codemirror_mode": {
    "name": "ipython",
    "version": 3
   },
   "file_extension": ".py",
   "mimetype": "text/x-python",
   "name": "python",
   "nbconvert_exporter": "python",
   "pygments_lexer": "ipython3",
   "version": "3.8.3"
  },
  "colab": {
   "name": "06-1_mlp.ipynb",
   "provenance": []
  }
 },
 "nbformat": 4,
 "nbformat_minor": 0
}