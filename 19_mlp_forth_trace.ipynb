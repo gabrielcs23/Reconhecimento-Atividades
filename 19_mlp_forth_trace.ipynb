{
 "cells": [
  {
   "cell_type": "code",
   "execution_count": 1,
   "metadata": {
    "collapsed": true
   },
   "outputs": [],
   "source": [
    "import pandas as pd\n",
    "import numpy as np\n",
    "import matplotlib.pyplot as plt\n",
    "import seaborn as sns\n",
    "\n",
    "from sklearn.metrics import classification_report, confusion_matrix\n",
    "from sklearn.model_selection import cross_validate, train_test_split\n",
    "from sklearn.neural_network import MLPClassifier"
   ]
  },
  {
   "cell_type": "code",
   "execution_count": 2,
   "outputs": [],
   "source": [
    "df = pd.read_csv('forth_trace.csv')\n",
    "X = df.drop(columns=['class'])\n",
    "y = df['class']\n",
    "\n",
    "# balanced_accuracy = (recall + specificity) / 2\n",
    "metrics = ['f1_weighted', 'balanced_accuracy', 'accuracy']"
   ],
   "metadata": {
    "collapsed": false,
    "pycharm": {
     "name": "#%%\n"
    }
   }
  },
  {
   "cell_type": "markdown",
   "source": [
    "## MLP"
   ],
   "metadata": {
    "collapsed": false
   }
  },
  {
   "cell_type": "code",
   "execution_count": 3,
   "outputs": [
    {
     "name": "stdout",
     "output_type": "stream",
     "text": [
      "Hidden Layers = 50:\n",
      "\tf1:\n",
      "\t\tmean = 57.47%;\n",
      "\t\tstd = 0.05;\n",
      "\tbalanced accuracy:\n",
      "\t\tmean = 40.57%;\n",
      "\t\tstd = 0.05;\n",
      "\taccuracy:\n",
      "\t\tmean = 57.43%;\n",
      "\t\tstd = 0.05;\n",
      "Hidden Layers = 100:\n",
      "\tf1:\n",
      "\t\tmean = 58.52%;\n",
      "\t\tstd = 0.04;\n",
      "\tbalanced accuracy:\n",
      "\t\tmean = 40.98%;\n",
      "\t\tstd = 0.05;\n",
      "\taccuracy:\n",
      "\t\tmean = 58.58%;\n",
      "\t\tstd = 0.04;\n",
      "Hidden Layers = 150:\n",
      "\tf1:\n",
      "\t\tmean = 59.48%;\n",
      "\t\tstd = 0.04;\n",
      "\tbalanced accuracy:\n",
      "\t\tmean = 45.13%;\n",
      "\t\tstd = 0.06;\n",
      "\taccuracy:\n",
      "\t\tmean = 59.59%;\n",
      "\t\tstd = 0.04;\n",
      "Hidden Layers = 200:\n",
      "\tf1:\n",
      "\t\tmean = 60.08%;\n",
      "\t\tstd = 0.04;\n",
      "\tbalanced accuracy:\n",
      "\t\tmean = 43.99%;\n",
      "\t\tstd = 0.05;\n",
      "\taccuracy:\n",
      "\t\tmean = 60.31%;\n",
      "\t\tstd = 0.04;\n",
      "Hidden Layers = 250:\n",
      "\tf1:\n",
      "\t\tmean = 59.18%;\n",
      "\t\tstd = 0.05;\n",
      "\tbalanced accuracy:\n",
      "\t\tmean = 44.00%;\n",
      "\t\tstd = 0.05;\n",
      "\taccuracy:\n",
      "\t\tmean = 59.42%;\n",
      "\t\tstd = 0.05;\n",
      "Hidden Layers = 300:\n",
      "\tf1:\n",
      "\t\tmean = 59.55%;\n",
      "\t\tstd = 0.05;\n",
      "\tbalanced accuracy:\n",
      "\t\tmean = 44.18%;\n",
      "\t\tstd = 0.06;\n",
      "\taccuracy:\n",
      "\t\tmean = 59.88%;\n",
      "\t\tstd = 0.05;\n",
      "Hidden Layers = 350:\n",
      "\tf1:\n",
      "\t\tmean = 60.01%;\n",
      "\t\tstd = 0.04;\n",
      "\tbalanced accuracy:\n",
      "\t\tmean = 43.81%;\n",
      "\t\tstd = 0.05;\n",
      "\taccuracy:\n",
      "\t\tmean = 60.30%;\n",
      "\t\tstd = 0.04;\n",
      "Hidden Layers = 400:\n",
      "\tf1:\n",
      "\t\tmean = 60.03%;\n",
      "\t\tstd = 0.05;\n",
      "\tbalanced accuracy:\n",
      "\t\tmean = 43.98%;\n",
      "\t\tstd = 0.05;\n",
      "\taccuracy:\n",
      "\t\tmean = 60.41%;\n",
      "\t\tstd = 0.04;\n",
      "Hidden Layers = 450:\n",
      "\tf1:\n",
      "\t\tmean = 60.37%;\n",
      "\t\tstd = 0.05;\n",
      "\tbalanced accuracy:\n",
      "\t\tmean = 44.87%;\n",
      "\t\tstd = 0.06;\n",
      "\taccuracy:\n",
      "\t\tmean = 60.80%;\n",
      "\t\tstd = 0.04;\n",
      "Hidden Layers = 500:\n",
      "\tf1:\n",
      "\t\tmean = 60.67%;\n",
      "\t\tstd = 0.04;\n",
      "\tbalanced accuracy:\n",
      "\t\tmean = 44.70%;\n",
      "\t\tstd = 0.05;\n",
      "\taccuracy:\n",
      "\t\tmean = 61.07%;\n",
      "\t\tstd = 0.04;\n"
     ]
    }
   ],
   "source": [
    "for i in range(1,11):\n",
    "    mpl = MLPClassifier(activation = 'logistic',\n",
    "                    solver='adam',\n",
    "                    alpha=1e-5,\n",
    "                    learning_rate = 'invscaling',\n",
    "                    max_iter = 500,\n",
    "                    hidden_layer_sizes=(i*50,),\n",
    "                    random_state=42)\n",
    "\n",
    "    result = cross_validate(mpl, X, y, cv=10, scoring=metrics,\n",
    "                            return_train_score=True, n_jobs=-1)\n",
    "    print(\"Hidden Layers = \" + str(mpl.hidden_layer_sizes[0]) + \":\")\n",
    "\n",
    "    print(\"\\tf1:\")\n",
    "    print(\"\\t\\tmean = {mean:.2f}%;\\n\\t\\tstd = {std:.2f};\"\n",
    "        .format(mean = result.get('test_f1_weighted').mean()*100,\n",
    "                std = result.get('test_f1_weighted').std()))\n",
    "\n",
    "    print(\"\\tbalanced accuracy:\")\n",
    "    print(\"\\t\\tmean = {mean:.2f}%;\\n\\t\\tstd = {std:.2f};\"\n",
    "        .format(mean = result.get('test_balanced_accuracy').mean()*100,\n",
    "                std = result.get('test_balanced_accuracy').std()))\n",
    "\n",
    "    print(\"\\taccuracy:\")\n",
    "    print(\"\\t\\tmean = {mean:.2f}%;\\n\\t\\tstd = {std:.2f};\"\n",
    "          .format(mean = result.get('test_accuracy').mean()*100,\n",
    "                  std = result.get('test_accuracy').std()))\n",
    "\n",
    "# best hidden layer size: 500"
   ],
   "metadata": {
    "collapsed": false,
    "pycharm": {
     "name": "#%%\n"
    }
   }
  },
  {
   "cell_type": "markdown",
   "source": [
    "## MLP Report"
   ],
   "metadata": {
    "collapsed": false
   }
  },
  {
   "cell_type": "code",
   "execution_count": 5,
   "outputs": [
    {
     "name": "stdout",
     "output_type": "stream",
     "text": [
      "              precision    recall  f1-score   support\n",
      "\n",
      "           1       0.91      0.96      0.93      1224\n",
      "           2       0.95      0.96      0.96       657\n",
      "           3       0.93      0.94      0.94       661\n",
      "           4       0.74      0.75      0.75      1099\n",
      "           5       0.76      0.76      0.76      1101\n",
      "           6       0.74      0.82      0.78       699\n",
      "           7       0.55      0.46      0.50       353\n",
      "           8       0.29      0.27      0.28        49\n",
      "           9       0.21      0.16      0.18        44\n",
      "          10       0.25      0.19      0.21        48\n",
      "          11       0.33      0.32      0.32        44\n",
      "          12       0.53      0.27      0.36        30\n",
      "          13       0.73      0.45      0.56        60\n",
      "          14       0.93      0.47      0.62        30\n",
      "          15       0.33      0.33      0.33        15\n",
      "          16       0.14      0.07      0.09        15\n",
      "\n",
      "    accuracy                           0.80      6129\n",
      "   macro avg       0.58      0.51      0.53      6129\n",
      "weighted avg       0.79      0.80      0.80      6129\n",
      "\n"
     ]
    }
   ],
   "source": [
    "X_train, X_test, y_train, y_test = train_test_split(X, y, stratify=y, train_size=0.7, random_state=42)\n",
    "mlp = MLPClassifier(activation = 'logistic',\n",
    "                    solver='adam',\n",
    "                    alpha=1e-5,\n",
    "                    learning_rate = 'invscaling',\n",
    "                    max_iter = 500,\n",
    "                    hidden_layer_sizes=(500,),\n",
    "                    random_state=42)\n",
    "mlp.fit(X_train, y_train)\n",
    "y_pred = mlp.predict(X_test)\n",
    "report = classification_report(y_test, y_pred)\n",
    "print(report)"
   ],
   "metadata": {
    "collapsed": false,
    "pycharm": {
     "name": "#%%\n"
    }
   }
  },
  {
   "cell_type": "code",
   "execution_count": 6,
   "outputs": [
    {
     "data": {
      "text/plain": "<matplotlib.axes._subplots.AxesSubplot at 0x7fec31a06760>"
     },
     "execution_count": 6,
     "metadata": {},
     "output_type": "execute_result"
    },
    {
     "data": {
      "text/plain": "<Figure size 936x720 with 2 Axes>",
      "image/png": "[encoded data removed]"
     },
     "metadata": {
      "needs_background": "light"
     },
     "output_type": "display_data"
    }
   ],
   "source": [
    "cf_matrix = confusion_matrix(y_test, y_pred)\n",
    "\n",
    "categories = np.unique(y).tolist()\n",
    "plt.figure(figsize=(13,10))\n",
    "plt.title('Classificação Hierárquica')\n",
    "sns.heatmap(cf_matrix, annot=True, fmt=\"\", cmap='Blues', cbar=True, xticklabels=categories, yticklabels=categories)\n"
   ],
   "metadata": {
    "collapsed": false,
    "pycharm": {
     "name": "#%%\n"
    }
   }
  }
 ],
 "metadata": {
  "kernelspec": {
   "display_name": "Python 3",
   "language": "python",
   "name": "python3"
  },
  "language_info": {
   "codemirror_mode": {
    "name": "ipython",
    "version": 2
   },
   "file_extension": ".py",
   "mimetype": "text/x-python",
   "name": "python",
   "nbconvert_exporter": "python",
   "pygments_lexer": "ipython2",
   "version": "2.7.6"
  }
 },
 "nbformat": 4,
 "nbformat_minor": 0
}