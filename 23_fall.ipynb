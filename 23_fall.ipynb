{
 "cells": [
  {
   "cell_type": "code",
   "execution_count": 1,
   "metadata": {
    "collapsed": true,
    "id": "7CsIxHU7JhfR",
    "executionInfo": {
     "status": "ok",
     "timestamp": 1641250794147,
     "user_tz": 180,
     "elapsed": 752,
     "user": {
      "displayName": "Gabriel Costa E Silva",
      "photoUrl": "https://lh3.googleusercontent.com/a-/AOh14GhEXO0ldSegoXrOctbJpx9p8bSLz_l_dslHSZYi9Q=s64",
      "userId": "06817854615097805133"
     }
    }
   },
   "outputs": [],
   "source": [
    "import pandas as pd\n",
    "import numpy as np\n",
    "import matplotlib.pyplot as plt\n",
    "import seaborn as sns\n",
    "\n",
    "from sklearn.metrics import classification_report, confusion_matrix,\\\n",
    "    accuracy_score, make_scorer\n",
    "from sklearn.model_selection import cross_validate, cross_val_score\n",
    "from sklearn.neural_network import MLPClassifier"
   ]
  },
  {
   "cell_type": "code",
   "source": [
    "from google.colab import drive\n",
    "drive.mount('/content/drive')"
   ],
   "metadata": {
    "colab": {
     "base_uri": "https://localhost:8080/"
    },
    "id": "h5nXazsdKy1M",
    "executionInfo": {
     "status": "ok",
     "timestamp": 1641250851957,
     "user_tz": 180,
     "elapsed": 24519,
     "user": {
      "displayName": "Gabriel Costa E Silva",
      "photoUrl": "https://lh3.googleusercontent.com/a-/AOh14GhEXO0ldSegoXrOctbJpx9p8bSLz_l_dslHSZYi9Q=s64",
      "userId": "06817854615097805133"
     }
    },
    "outputId": "b5109ee1-94cd-4dec-c735-07dcd7c5e92b"
   },
   "execution_count": 2,
   "outputs": [
    {
     "output_type": "stream",
     "name": "stdout",
     "text": [
      "Mounted at /content/drive\n"
     ]
    }
   ]
  },
  {
   "cell_type": "code",
   "source": [
    "cd drive/MyDrive/UFF/TCC/Implementação/"
   ],
   "metadata": {
    "colab": {
     "base_uri": "https://localhost:8080/"
    },
    "id": "6l6fK1w1K2Gd",
    "executionInfo": {
     "status": "ok",
     "timestamp": 1641250854331,
     "user_tz": 180,
     "elapsed": 2380,
     "user": {
      "displayName": "Gabriel Costa E Silva",
      "photoUrl": "https://lh3.googleusercontent.com/a-/AOh14GhEXO0ldSegoXrOctbJpx9p8bSLz_l_dslHSZYi9Q=s64",
      "userId": "06817854615097805133"
     }
    },
    "outputId": "cd15091c-dcf6-4545-aa60-54af30cc7d02"
   },
   "execution_count": 3,
   "outputs": [
    {
     "output_type": "stream",
     "name": "stdout",
     "text": [
      "/content/drive/MyDrive/UFF/TCC/Implementação\n"
     ]
    }
   ]
  },
  {
   "cell_type": "code",
   "execution_count": 4,
   "metadata": {
    "pycharm": {
     "name": "#%%\n"
    },
    "id": "B53lu0GFJhfU",
    "executionInfo": {
     "status": "ok",
     "timestamp": 1641250857433,
     "user_tz": 180,
     "elapsed": 1032,
     "user": {
      "displayName": "Gabriel Costa E Silva",
      "photoUrl": "https://lh3.googleusercontent.com/a-/AOh14GhEXO0ldSegoXrOctbJpx9p8bSLz_l_dslHSZYi9Q=s64",
      "userId": "06817854615097805133"
     }
    }
   },
   "outputs": [],
   "source": [
    "columns = ['sequence', 'frame', 'label', 'HeightWidthRatio',\n",
    "           'MajorMinorRatio', 'BoundingBoxOccupancy', 'MaxStdXZ',\n",
    "           'HHmaxRatio', 'H', 'D', 'P40']\n",
    "\n",
    "df = pd.read_csv('urfall-cam0-falls.csv', names=columns)\n",
    "\n",
    "df.sequence = df.sequence.str.replace('fall-', '')\n",
    "\n",
    "df['label'] = [\n",
    "    'Em pé' if a == -1\n",
    "    else 'Deitado' if a == 1\n",
    "    else 'Caindo'\n",
    "    for a in df['label']\n",
    "]\n",
    "\n",
    "X = df.drop(columns=['label', 'sequence', 'frame'])\n",
    "y = df['label']\n",
    "\n",
    "# balanced_accuracy = (recall + specificity) / 2\n",
    "metrics = ['f1_weighted', 'balanced_accuracy', 'accuracy']"
   ]
  },
  {
   "cell_type": "markdown",
   "source": [
    "## Distribuição de classes"
   ],
   "metadata": {
    "collapsed": false,
    "id": "H7YDDYaMJhfW"
   }
  },
  {
   "cell_type": "code",
   "execution_count": 7,
   "outputs": [
    {
     "output_type": "display_data",
     "data": {
      "image/png": "[encoded data removed]",
      "text/plain": [
       "<Figure size 720x432 with 1 Axes>"
      ]
     },
     "metadata": {
      "needs_background": "light"
     }
    }
   ],
   "source": [
    "counts = y.value_counts()\n",
    "bar_y = counts.index.to_list()\n",
    "bar_x = counts.tolist()\n",
    "y_pos = np.arange(len(bar_y))\n",
    "\n",
    "plt.subplots(figsize=(10,6))\n",
    "plt.bar(y_pos, bar_x, align='center', alpha = 0.5)\n",
    "plt.xticks(y_pos, bar_y)\n",
    "xlocs, xlabs = plt.xticks()\n",
    "plt.ylabel('Frequência')\n",
    "plt.title('Distribuição de classes')\n",
    "for i, v in enumerate(bar_x):\n",
    "    plt.text(xlocs[i] - 0.05 + i*0.006, v + 7, str(v))"
   ],
   "metadata": {
    "pycharm": {
     "name": "#%%\n"
    },
    "colab": {
     "base_uri": "https://localhost:8080/",
     "height": 391
    },
    "id": "VwZwxDhWJhfY",
    "executionInfo": {
     "status": "ok",
     "timestamp": 1641250874879,
     "user_tz": 180,
     "elapsed": 684,
     "user": {
      "displayName": "Gabriel Costa E Silva",
      "photoUrl": "https://lh3.googleusercontent.com/a-/AOh14GhEXO0ldSegoXrOctbJpx9p8bSLz_l_dslHSZYi9Q=s64",
      "userId": "06817854615097805133"
     }
    },
    "outputId": "61f39ba5-5be0-4514-e43a-4b807106be29"
   }
  },
  {
   "cell_type": "code",
   "execution_count": 8,
   "outputs": [],
   "source": [
    "# Variables for average classification report\n",
    "originalclass = []\n",
    "predictedclass = []\n",
    "\n",
    "#Make our customer score\n",
    "def classification_report_with_accuracy_score(y_true, y_pred):\n",
    "    originalclass.extend(y_true)\n",
    "    predictedclass.extend(y_pred)\n",
    "    return accuracy_score(y_true, y_pred) # return accuracy score"
   ],
   "metadata": {
    "pycharm": {
     "name": "#%%\n"
    },
    "id": "qeclm-LmJhfZ",
    "executionInfo": {
     "status": "ok",
     "timestamp": 1641250896955,
     "user_tz": 180,
     "elapsed": 5,
     "user": {
      "displayName": "Gabriel Costa E Silva",
      "photoUrl": "https://lh3.googleusercontent.com/a-/AOh14GhEXO0ldSegoXrOctbJpx9p8bSLz_l_dslHSZYi9Q=s64",
      "userId": "06817854615097805133"
     }
    }
   }
  },
  {
   "cell_type": "markdown",
   "metadata": {
    "id": "sg8a6SVYJhfa"
   },
   "source": [
    "## MLP"
   ]
  },
  {
   "cell_type": "code",
   "execution_count": 10,
   "metadata": {
    "pycharm": {
     "name": "#%%\n"
    },
    "colab": {
     "base_uri": "https://localhost:8080/"
    },
    "id": "_Cmfjn_tJhfb",
    "executionInfo": {
     "status": "ok",
     "timestamp": 1641251606004,
     "user_tz": 180,
     "elapsed": 232504,
     "user": {
      "displayName": "Gabriel Costa E Silva",
      "photoUrl": "https://lh3.googleusercontent.com/a-/AOh14GhEXO0ldSegoXrOctbJpx9p8bSLz_l_dslHSZYi9Q=s64",
      "userId": "06817854615097805133"
     }
    },
    "outputId": "331a7368-1c19-4448-fec3-e1c28efd9245"
   },
   "outputs": [
    {
     "output_type": "stream",
     "name": "stdout",
     "text": [
      "Hidden Layers = 50:\n",
      "\tf1:\n",
      "\t\tmean = 82.73%;\n",
      "\t\tstd = 0.06;\n",
      "\tbalanced accuracy:\n",
      "\t\tmean = 82.73%;\n",
      "\t\tstd = 0.05;\n",
      "\taccuracy:\n",
      "\t\tmean = 83.81%;\n",
      "\t\tstd = 0.05;\n",
      "Hidden Layers = 100:\n",
      "\tf1:\n",
      "\t\tmean = 82.80%;\n",
      "\t\tstd = 0.07;\n",
      "\tbalanced accuracy:\n",
      "\t\tmean = 82.80%;\n",
      "\t\tstd = 0.06;\n",
      "\taccuracy:\n",
      "\t\tmean = 83.71%;\n",
      "\t\tstd = 0.06;\n",
      "Hidden Layers = 150:\n",
      "\tf1:\n",
      "\t\tmean = 82.48%;\n",
      "\t\tstd = 0.06;\n",
      "\tbalanced accuracy:\n",
      "\t\tmean = 82.41%;\n",
      "\t\tstd = 0.05;\n",
      "\taccuracy:\n",
      "\t\tmean = 83.44%;\n",
      "\t\tstd = 0.06;\n",
      "Hidden Layers = 200:\n",
      "\tf1:\n",
      "\t\tmean = 83.68%;\n",
      "\t\tstd = 0.06;\n",
      "\tbalanced accuracy:\n",
      "\t\tmean = 83.60%;\n",
      "\t\tstd = 0.06;\n",
      "\taccuracy:\n",
      "\t\tmean = 84.58%;\n",
      "\t\tstd = 0.06;\n",
      "Hidden Layers = 250:\n",
      "\tf1:\n",
      "\t\tmean = 83.25%;\n",
      "\t\tstd = 0.06;\n",
      "\tbalanced accuracy:\n",
      "\t\tmean = 83.15%;\n",
      "\t\tstd = 0.06;\n",
      "\taccuracy:\n",
      "\t\tmean = 84.24%;\n",
      "\t\tstd = 0.06;\n",
      "Hidden Layers = 300:\n",
      "\tf1:\n",
      "\t\tmean = 82.29%;\n",
      "\t\tstd = 0.06;\n",
      "\tbalanced accuracy:\n",
      "\t\tmean = 81.85%;\n",
      "\t\tstd = 0.06;\n",
      "\taccuracy:\n",
      "\t\tmean = 82.91%;\n",
      "\t\tstd = 0.06;\n",
      "Hidden Layers = 350:\n",
      "\tf1:\n",
      "\t\tmean = 83.40%;\n",
      "\t\tstd = 0.05;\n",
      "\tbalanced accuracy:\n",
      "\t\tmean = 83.19%;\n",
      "\t\tstd = 0.05;\n",
      "\taccuracy:\n",
      "\t\tmean = 84.28%;\n",
      "\t\tstd = 0.05;\n",
      "Hidden Layers = 400:\n",
      "\tf1:\n",
      "\t\tmean = 82.96%;\n",
      "\t\tstd = 0.06;\n",
      "\tbalanced accuracy:\n",
      "\t\tmean = 82.93%;\n",
      "\t\tstd = 0.06;\n",
      "\taccuracy:\n",
      "\t\tmean = 83.84%;\n",
      "\t\tstd = 0.06;\n",
      "Hidden Layers = 450:\n",
      "\tf1:\n",
      "\t\tmean = 83.47%;\n",
      "\t\tstd = 0.06;\n",
      "\tbalanced accuracy:\n",
      "\t\tmean = 83.34%;\n",
      "\t\tstd = 0.06;\n",
      "\taccuracy:\n",
      "\t\tmean = 84.24%;\n",
      "\t\tstd = 0.06;\n",
      "Hidden Layers = 500:\n",
      "\tf1:\n",
      "\t\tmean = 83.69%;\n",
      "\t\tstd = 0.05;\n",
      "\tbalanced accuracy:\n",
      "\t\tmean = 83.56%;\n",
      "\t\tstd = 0.04;\n",
      "\taccuracy:\n",
      "\t\tmean = 84.58%;\n",
      "\t\tstd = 0.04;\n"
     ]
    }
   ],
   "source": [
    "for i in range(1,11):\n",
    "    mpl = MLPClassifier(activation = 'logistic',\n",
    "                    solver='adam',\n",
    "                    alpha=1e-5,\n",
    "                    learning_rate = 'invscaling',\n",
    "                    max_iter = 500,\n",
    "                    hidden_layer_sizes=(i*50,),\n",
    "                    random_state=42)\n",
    "\n",
    "    result = cross_validate(mpl, X, y, cv=10, scoring=metrics,\n",
    "                            return_train_score=True, n_jobs=-1)\n",
    "    print(\"Hidden Layers = \" + str(mpl.hidden_layer_sizes[0]) + \":\")\n",
    "\n",
    "    print(\"\\tf1:\")\n",
    "    print(\"\\t\\tmean = {mean:.2f}%;\\n\\t\\tstd = {std:.2f};\"\n",
    "        .format(mean = result.get('test_f1_weighted').mean()*100,\n",
    "                std = result.get('test_f1_weighted').std()))\n",
    "\n",
    "    print(\"\\tbalanced accuracy:\")\n",
    "    print(\"\\t\\tmean = {mean:.2f}%;\\n\\t\\tstd = {std:.2f};\"\n",
    "        .format(mean = result.get('test_balanced_accuracy').mean()*100,\n",
    "                std = result.get('test_balanced_accuracy').std()))\n",
    "\n",
    "    print(\"\\taccuracy:\")\n",
    "    print(\"\\t\\tmean = {mean:.2f}%;\\n\\t\\tstd = {std:.2f};\"\n",
    "          .format(mean = result.get('test_accuracy').mean()*100,\n",
    "                  std = result.get('test_accuracy').std()))\n",
    "\n",
    "# best hidden layer size: 500"
   ]
  },
  {
   "cell_type": "markdown",
   "metadata": {
    "id": "LZQIuNjSJhfd"
   },
   "source": [
    "## MLP Report"
   ]
  },
  {
   "cell_type": "code",
   "execution_count": 11,
   "metadata": {
    "pycharm": {
     "name": "#%%\n"
    },
    "colab": {
     "base_uri": "https://localhost:8080/"
    },
    "id": "pn74Hk1iJhfe",
    "executionInfo": {
     "status": "ok",
     "timestamp": 1641252176236,
     "user_tz": 180,
     "elapsed": 57721,
     "user": {
      "displayName": "Gabriel Costa E Silva",
      "photoUrl": "https://lh3.googleusercontent.com/a-/AOh14GhEXO0ldSegoXrOctbJpx9p8bSLz_l_dslHSZYi9Q=s64",
      "userId": "06817854615097805133"
     }
    },
    "outputId": "d91e6647-18ec-46f9-b34b-3d61573f2821"
   },
   "outputs": [
    {
     "output_type": "stream",
     "name": "stdout",
     "text": [
      "Accuracy\n",
      "mean = 84.74%;\tstd = 0.05;\n",
      "              precision    recall  f1-score   support\n",
      "\n",
      "      Caindo       0.82      0.64      0.71       900\n",
      "     Deitado       0.90      0.94      0.92       903\n",
      "       Em pé       0.83      0.94      0.88      1192\n",
      "\n",
      "    accuracy                           0.85      2995\n",
      "   macro avg       0.85      0.84      0.84      2995\n",
      "weighted avg       0.85      0.85      0.84      2995\n",
      "\n"
     ]
    }
   ],
   "source": [
    "mlp = MLPClassifier(activation = 'logistic',\n",
    "                    solver='adam',\n",
    "                    alpha=1e-5,\n",
    "                    learning_rate = 'invscaling',\n",
    "                    max_iter = 500,\n",
    "                    hidden_layer_sizes=(500,),\n",
    "                    random_state=42)\n",
    "acc = cross_val_score(mlp, X=X, y=y, cv=10,\n",
    "                      scoring=make_scorer(\n",
    "                          classification_report_with_accuracy_score\n",
    "                      ))\n",
    "\n",
    "print(\"Accuracy\")\n",
    "print(\"mean = {mean:.2f}%;\\tstd = {std:.2f};\"\n",
    "      .format(mean = acc.mean()*100,\n",
    "              std = acc.std()))\n",
    "\n",
    "# Average values in classification report for all folds in a K-fold Cross-validation\n",
    "print(classification_report(originalclass, predictedclass))"
   ]
  },
  {
   "cell_type": "code",
   "execution_count": 12,
   "metadata": {
    "pycharm": {
     "name": "#%%\n"
    },
    "colab": {
     "base_uri": "https://localhost:8080/",
     "height": 628
    },
    "id": "UMAhA3YtJhfg",
    "executionInfo": {
     "status": "ok",
     "timestamp": 1641252176676,
     "user_tz": 180,
     "elapsed": 444,
     "user": {
      "displayName": "Gabriel Costa E Silva",
      "photoUrl": "https://lh3.googleusercontent.com/a-/AOh14GhEXO0ldSegoXrOctbJpx9p8bSLz_l_dslHSZYi9Q=s64",
      "userId": "06817854615097805133"
     }
    },
    "outputId": "9f25d706-b39b-44db-e5e2-09ade6d392ed"
   },
   "outputs": [
    {
     "output_type": "execute_result",
     "data": {
      "text/plain": [
       "<matplotlib.axes._subplots.AxesSubplot at 0x7fe1f4603290>"
      ]
     },
     "metadata": {},
     "execution_count": 12
    },
    {
     "output_type": "display_data",
     "data": {
      "image/png": "[encoded data removed]",
      "text/plain": [
       "<Figure size 936x720 with 2 Axes>"
      ]
     },
     "metadata": {
      "needs_background": "light"
     }
    }
   ],
   "source": [
    "cf_matrix = confusion_matrix(originalclass, predictedclass)\n",
    "\n",
    "categories = np.unique(y).tolist()\n",
    "plt.figure(figsize=(13,10))\n",
    "plt.title('Classificação Única')\n",
    "sns.heatmap(cf_matrix, annot=True, fmt=\"\", cmap='Blues', cbar=True, xticklabels=categories, yticklabels=categories)\n"
   ]
  },
  {
   "cell_type": "code",
   "source": [
    "originalclass = []\n",
    "predictedclass = []\n",
    "\n",
    "mlp = MLPClassifier(activation = 'logistic',\n",
    "                    solver='adam',\n",
    "                    alpha=1e-5,\n",
    "                    learning_rate = 'invscaling',\n",
    "                    max_iter = 500,\n",
    "                    hidden_layer_sizes=(200,),\n",
    "                    random_state=42)\n",
    "acc = cross_val_score(mlp, X=X, y=y, cv=10,\n",
    "                      scoring=make_scorer(\n",
    "                          classification_report_with_accuracy_score\n",
    "                      ))\n",
    "\n",
    "print(\"Accuracy\")\n",
    "print(\"mean = {mean:.2f}%;\\tstd = {std:.2f};\"\n",
    "      .format(mean = acc.mean()*100,\n",
    "              std = acc.std()))\n",
    "\n",
    "# Average values in classification report for all folds in a K-fold Cross-validation\n",
    "print(classification_report(originalclass, predictedclass))"
   ],
   "metadata": {
    "colab": {
     "base_uri": "https://localhost:8080/"
    },
    "id": "--S5ceeFNAjg",
    "executionInfo": {
     "status": "ok",
     "timestamp": 1641252221157,
     "user_tz": 180,
     "elapsed": 44487,
     "user": {
      "displayName": "Gabriel Costa E Silva",
      "photoUrl": "https://lh3.googleusercontent.com/a-/AOh14GhEXO0ldSegoXrOctbJpx9p8bSLz_l_dslHSZYi9Q=s64",
      "userId": "06817854615097805133"
     }
    },
    "outputId": "dfa5c279-a0bb-430d-b5ad-62818d404681"
   },
   "execution_count": 13,
   "outputs": [
    {
     "output_type": "stream",
     "name": "stdout",
     "text": [
      "Accuracy\n",
      "mean = 84.58%;\tstd = 0.06;\n",
      "              precision    recall  f1-score   support\n",
      "\n",
      "      Caindo       0.81      0.63      0.71       900\n",
      "     Deitado       0.90      0.94      0.92       903\n",
      "       Em pé       0.83      0.93      0.88      1192\n",
      "\n",
      "    accuracy                           0.85      2995\n",
      "   macro avg       0.85      0.84      0.84      2995\n",
      "weighted avg       0.84      0.85      0.84      2995\n",
      "\n"
     ]
    }
   ]
  },
  {
   "cell_type": "code",
   "source": [
    "cf_matrix = confusion_matrix(originalclass, predictedclass)\n",
    "\n",
    "categories = np.unique(y).tolist()\n",
    "plt.figure(figsize=(13,10))\n",
    "plt.title('Classificação Única')\n",
    "sns.heatmap(cf_matrix, annot=True, fmt=\"\", cmap='Blues', cbar=True, xticklabels=categories, yticklabels=categories)"
   ],
   "metadata": {
    "colab": {
     "base_uri": "https://localhost:8080/",
     "height": 628
    },
    "id": "FEaSIasdNCfW",
    "executionInfo": {
     "status": "ok",
     "timestamp": 1641252221737,
     "user_tz": 180,
     "elapsed": 584,
     "user": {
      "displayName": "Gabriel Costa E Silva",
      "photoUrl": "https://lh3.googleusercontent.com/a-/AOh14GhEXO0ldSegoXrOctbJpx9p8bSLz_l_dslHSZYi9Q=s64",
      "userId": "06817854615097805133"
     }
    },
    "outputId": "dc804c6b-bcb0-4eb4-8214-aba1567ce303"
   },
   "execution_count": 14,
   "outputs": [
    {
     "output_type": "execute_result",
     "data": {
      "text/plain": [
       "<matplotlib.axes._subplots.AxesSubplot at 0x7fe1eac3bcd0>"
      ]
     },
     "metadata": {},
     "execution_count": 14
    },
    {
     "output_type": "display_data",
     "data": {
      "image/png": "[encoded data removed]",
      "text/plain": [
       "<Figure size 936x720 with 2 Axes>"
      ]
     },
     "metadata": {
      "needs_background": "light"
     }
    }
   ]
  }
 ],
 "metadata": {
  "kernelspec": {
   "display_name": "Python 3",
   "language": "python",
   "name": "python3"
  },
  "language_info": {
   "codemirror_mode": {
    "name": "ipython",
    "version": 3
   },
   "file_extension": ".py",
   "mimetype": "text/x-python",
   "name": "python",
   "nbconvert_exporter": "python",
   "pygments_lexer": "ipython3",
   "version": "3.8.3"
  },
  "colab": {
   "name": "23_fall.ipynb",
   "provenance": []
  }
 },
 "nbformat": 4,
 "nbformat_minor": 0
}