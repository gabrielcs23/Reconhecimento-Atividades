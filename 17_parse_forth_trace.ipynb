{
 "cells": [
  {
   "cell_type": "code",
   "execution_count": 1,
   "metadata": {
    "collapsed": true
   },
   "outputs": [],
   "source": [
    "import pandas as pd\n",
    "from scipy.io import arff"
   ]
  },
  {
   "cell_type": "code",
   "execution_count": 2,
   "outputs": [
    {
     "data": {
      "text/plain": "   PC c00-01d0  PC c00-02d0  PC c00-03d0  PC c00-04d0  PC c00-05d0  \\\n0     0.616028    -0.091820     1.234760     1.264714     0.420982   \n1     0.437539    -0.161752     1.306876     1.032010     0.274101   \n2    -0.403919    -0.120424     1.322933     0.619479     0.136779   \n3    -1.106968     0.066411     1.267941     0.451547     0.397918   \n4    -0.580055    -0.810882     1.691123     2.042428     0.229147   \n\n   PC c00-06d0  PC c00-07d0  PC c00-08d0  PC c01-02d0  PC c01-03d0  ...  \\\n0     1.457167     0.286031     1.085268     0.260247    -0.637362  ...   \n1     1.197587     0.205153     0.686648    -0.296777    -0.562261  ...   \n2     0.997687     0.004872     0.698657    -0.648212    -0.004806  ...   \n3     0.515042    -0.337146     0.427786    -0.709137     0.141099  ...   \n4     0.818391     0.049582     0.050953    -0.503279     0.339446  ...   \n\n     var7d0    var8d0  zcr0d0    zcr2d0    zcr3d0    zcr4d0    zcr5d0  \\\n0 -0.634571 -0.641028 -0.8262 -0.922374  1.458153 -0.308505  2.207638   \n1 -0.635178 -0.641191 -0.8262 -0.922374  1.617939 -0.435518  2.501722   \n2 -0.634145 -0.641505 -0.8262 -0.922374 -1.294097 -0.064024  1.416674   \n3 -0.634949 -0.641624 -0.8262 -0.922374 -0.780208  0.183638  2.346715   \n4 -0.633953 -0.641574 -0.8262 -0.922374 -0.437616 -0.125940  2.656729   \n\n     zcr6d0    zcr8d0  @@class@@  \n0 -0.797259 -0.581199       b'1'  \n1 -0.797259 -0.581199       b'1'  \n2 -0.797259 -0.581199       b'1'  \n3 -0.797259 -0.581199       b'1'  \n4 -0.797259 -0.581199       b'1'  \n\n[5 rows x 134 columns]",
      "text/html": "<div>\n<style scoped>\n    .dataframe tbody tr th:only-of-type {\n        vertical-align: middle;\n    }\n\n    .dataframe tbody tr th {\n        vertical-align: top;\n    }\n\n    .dataframe thead th {\n        text-align: right;\n    }\n</style>\n<table border=\"1\" class=\"dataframe\">\n  <thead>\n    <tr style=\"text-align: right;\">\n      <th></th>\n      <th>PC c00-01d0</th>\n      <th>PC c00-02d0</th>\n      <th>PC c00-03d0</th>\n      <th>PC c00-04d0</th>\n      <th>PC c00-05d0</th>\n      <th>PC c00-06d0</th>\n      <th>PC c00-07d0</th>\n      <th>PC c00-08d0</th>\n      <th>PC c01-02d0</th>\n      <th>PC c01-03d0</th>\n      <th>...</th>\n      <th>var7d0</th>\n      <th>var8d0</th>\n      <th>zcr0d0</th>\n      <th>zcr2d0</th>\n      <th>zcr3d0</th>\n      <th>zcr4d0</th>\n      <th>zcr5d0</th>\n      <th>zcr6d0</th>\n      <th>zcr8d0</th>\n      <th>@@class@@</th>\n    </tr>\n  </thead>\n  <tbody>\n    <tr>\n      <th>0</th>\n      <td>0.616028</td>\n      <td>-0.091820</td>\n      <td>1.234760</td>\n      <td>1.264714</td>\n      <td>0.420982</td>\n      <td>1.457167</td>\n      <td>0.286031</td>\n      <td>1.085268</td>\n      <td>0.260247</td>\n      <td>-0.637362</td>\n      <td>...</td>\n      <td>-0.634571</td>\n      <td>-0.641028</td>\n      <td>-0.8262</td>\n      <td>-0.922374</td>\n      <td>1.458153</td>\n      <td>-0.308505</td>\n      <td>2.207638</td>\n      <td>-0.797259</td>\n      <td>-0.581199</td>\n      <td>b'1'</td>\n    </tr>\n    <tr>\n      <th>1</th>\n      <td>0.437539</td>\n      <td>-0.161752</td>\n      <td>1.306876</td>\n      <td>1.032010</td>\n      <td>0.274101</td>\n      <td>1.197587</td>\n      <td>0.205153</td>\n      <td>0.686648</td>\n      <td>-0.296777</td>\n      <td>-0.562261</td>\n      <td>...</td>\n      <td>-0.635178</td>\n      <td>-0.641191</td>\n      <td>-0.8262</td>\n      <td>-0.922374</td>\n      <td>1.617939</td>\n      <td>-0.435518</td>\n      <td>2.501722</td>\n      <td>-0.797259</td>\n      <td>-0.581199</td>\n      <td>b'1'</td>\n    </tr>\n    <tr>\n      <th>2</th>\n      <td>-0.403919</td>\n      <td>-0.120424</td>\n      <td>1.322933</td>\n      <td>0.619479</td>\n      <td>0.136779</td>\n      <td>0.997687</td>\n      <td>0.004872</td>\n      <td>0.698657</td>\n      <td>-0.648212</td>\n      <td>-0.004806</td>\n      <td>...</td>\n      <td>-0.634145</td>\n      <td>-0.641505</td>\n      <td>-0.8262</td>\n      <td>-0.922374</td>\n      <td>-1.294097</td>\n      <td>-0.064024</td>\n      <td>1.416674</td>\n      <td>-0.797259</td>\n      <td>-0.581199</td>\n      <td>b'1'</td>\n    </tr>\n    <tr>\n      <th>3</th>\n      <td>-1.106968</td>\n      <td>0.066411</td>\n      <td>1.267941</td>\n      <td>0.451547</td>\n      <td>0.397918</td>\n      <td>0.515042</td>\n      <td>-0.337146</td>\n      <td>0.427786</td>\n      <td>-0.709137</td>\n      <td>0.141099</td>\n      <td>...</td>\n      <td>-0.634949</td>\n      <td>-0.641624</td>\n      <td>-0.8262</td>\n      <td>-0.922374</td>\n      <td>-0.780208</td>\n      <td>0.183638</td>\n      <td>2.346715</td>\n      <td>-0.797259</td>\n      <td>-0.581199</td>\n      <td>b'1'</td>\n    </tr>\n    <tr>\n      <th>4</th>\n      <td>-0.580055</td>\n      <td>-0.810882</td>\n      <td>1.691123</td>\n      <td>2.042428</td>\n      <td>0.229147</td>\n      <td>0.818391</td>\n      <td>0.049582</td>\n      <td>0.050953</td>\n      <td>-0.503279</td>\n      <td>0.339446</td>\n      <td>...</td>\n      <td>-0.633953</td>\n      <td>-0.641574</td>\n      <td>-0.8262</td>\n      <td>-0.922374</td>\n      <td>-0.437616</td>\n      <td>-0.125940</td>\n      <td>2.656729</td>\n      <td>-0.797259</td>\n      <td>-0.581199</td>\n      <td>b'1'</td>\n    </tr>\n  </tbody>\n</table>\n<p>5 rows × 134 columns</p>\n</div>"
     },
     "execution_count": 2,
     "metadata": {},
     "output_type": "execute_result"
    }
   ],
   "source": [
    "data = arff.loadarff('finalOficial1.arff')\n",
    "forth = pd.DataFrame(data[0])\n",
    "\n",
    "forth.head()"
   ],
   "metadata": {
    "collapsed": false,
    "pycharm": {
     "name": "#%%\n"
    }
   }
  },
  {
   "cell_type": "code",
   "execution_count": 3,
   "outputs": [
    {
     "data": {
      "text/plain": "   PC c00-01d0  PC c00-02d0  PC c00-03d0  PC c00-04d0  PC c00-05d0  \\\n0     0.616028    -0.091820     1.234760     1.264714     0.420982   \n1     0.437539    -0.161752     1.306876     1.032010     0.274101   \n2    -0.403919    -0.120424     1.322933     0.619479     0.136779   \n3    -1.106968     0.066411     1.267941     0.451547     0.397918   \n4    -0.580055    -0.810882     1.691123     2.042428     0.229147   \n\n   PC c00-06d0  PC c00-07d0  PC c00-08d0  PC c01-02d0  PC c01-03d0  ...  \\\n0     1.457167     0.286031     1.085268     0.260247    -0.637362  ...   \n1     1.197587     0.205153     0.686648    -0.296777    -0.562261  ...   \n2     0.997687     0.004872     0.698657    -0.648212    -0.004806  ...   \n3     0.515042    -0.337146     0.427786    -0.709137     0.141099  ...   \n4     0.818391     0.049582     0.050953    -0.503279     0.339446  ...   \n\n     var7d0    var8d0  zcr0d0    zcr2d0    zcr3d0    zcr4d0    zcr5d0  \\\n0 -0.634571 -0.641028 -0.8262 -0.922374  1.458153 -0.308505  2.207638   \n1 -0.635178 -0.641191 -0.8262 -0.922374  1.617939 -0.435518  2.501722   \n2 -0.634145 -0.641505 -0.8262 -0.922374 -1.294097 -0.064024  1.416674   \n3 -0.634949 -0.641624 -0.8262 -0.922374 -0.780208  0.183638  2.346715   \n4 -0.633953 -0.641574 -0.8262 -0.922374 -0.437616 -0.125940  2.656729   \n\n     zcr6d0    zcr8d0  class  \n0 -0.797259 -0.581199      1  \n1 -0.797259 -0.581199      1  \n2 -0.797259 -0.581199      1  \n3 -0.797259 -0.581199      1  \n4 -0.797259 -0.581199      1  \n\n[5 rows x 134 columns]",
      "text/html": "<div>\n<style scoped>\n    .dataframe tbody tr th:only-of-type {\n        vertical-align: middle;\n    }\n\n    .dataframe tbody tr th {\n        vertical-align: top;\n    }\n\n    .dataframe thead th {\n        text-align: right;\n    }\n</style>\n<table border=\"1\" class=\"dataframe\">\n  <thead>\n    <tr style=\"text-align: right;\">\n      <th></th>\n      <th>PC c00-01d0</th>\n      <th>PC c00-02d0</th>\n      <th>PC c00-03d0</th>\n      <th>PC c00-04d0</th>\n      <th>PC c00-05d0</th>\n      <th>PC c00-06d0</th>\n      <th>PC c00-07d0</th>\n      <th>PC c00-08d0</th>\n      <th>PC c01-02d0</th>\n      <th>PC c01-03d0</th>\n      <th>...</th>\n      <th>var7d0</th>\n      <th>var8d0</th>\n      <th>zcr0d0</th>\n      <th>zcr2d0</th>\n      <th>zcr3d0</th>\n      <th>zcr4d0</th>\n      <th>zcr5d0</th>\n      <th>zcr6d0</th>\n      <th>zcr8d0</th>\n      <th>class</th>\n    </tr>\n  </thead>\n  <tbody>\n    <tr>\n      <th>0</th>\n      <td>0.616028</td>\n      <td>-0.091820</td>\n      <td>1.234760</td>\n      <td>1.264714</td>\n      <td>0.420982</td>\n      <td>1.457167</td>\n      <td>0.286031</td>\n      <td>1.085268</td>\n      <td>0.260247</td>\n      <td>-0.637362</td>\n      <td>...</td>\n      <td>-0.634571</td>\n      <td>-0.641028</td>\n      <td>-0.8262</td>\n      <td>-0.922374</td>\n      <td>1.458153</td>\n      <td>-0.308505</td>\n      <td>2.207638</td>\n      <td>-0.797259</td>\n      <td>-0.581199</td>\n      <td>1</td>\n    </tr>\n    <tr>\n      <th>1</th>\n      <td>0.437539</td>\n      <td>-0.161752</td>\n      <td>1.306876</td>\n      <td>1.032010</td>\n      <td>0.274101</td>\n      <td>1.197587</td>\n      <td>0.205153</td>\n      <td>0.686648</td>\n      <td>-0.296777</td>\n      <td>-0.562261</td>\n      <td>...</td>\n      <td>-0.635178</td>\n      <td>-0.641191</td>\n      <td>-0.8262</td>\n      <td>-0.922374</td>\n      <td>1.617939</td>\n      <td>-0.435518</td>\n      <td>2.501722</td>\n      <td>-0.797259</td>\n      <td>-0.581199</td>\n      <td>1</td>\n    </tr>\n    <tr>\n      <th>2</th>\n      <td>-0.403919</td>\n      <td>-0.120424</td>\n      <td>1.322933</td>\n      <td>0.619479</td>\n      <td>0.136779</td>\n      <td>0.997687</td>\n      <td>0.004872</td>\n      <td>0.698657</td>\n      <td>-0.648212</td>\n      <td>-0.004806</td>\n      <td>...</td>\n      <td>-0.634145</td>\n      <td>-0.641505</td>\n      <td>-0.8262</td>\n      <td>-0.922374</td>\n      <td>-1.294097</td>\n      <td>-0.064024</td>\n      <td>1.416674</td>\n      <td>-0.797259</td>\n      <td>-0.581199</td>\n      <td>1</td>\n    </tr>\n    <tr>\n      <th>3</th>\n      <td>-1.106968</td>\n      <td>0.066411</td>\n      <td>1.267941</td>\n      <td>0.451547</td>\n      <td>0.397918</td>\n      <td>0.515042</td>\n      <td>-0.337146</td>\n      <td>0.427786</td>\n      <td>-0.709137</td>\n      <td>0.141099</td>\n      <td>...</td>\n      <td>-0.634949</td>\n      <td>-0.641624</td>\n      <td>-0.8262</td>\n      <td>-0.922374</td>\n      <td>-0.780208</td>\n      <td>0.183638</td>\n      <td>2.346715</td>\n      <td>-0.797259</td>\n      <td>-0.581199</td>\n      <td>1</td>\n    </tr>\n    <tr>\n      <th>4</th>\n      <td>-0.580055</td>\n      <td>-0.810882</td>\n      <td>1.691123</td>\n      <td>2.042428</td>\n      <td>0.229147</td>\n      <td>0.818391</td>\n      <td>0.049582</td>\n      <td>0.050953</td>\n      <td>-0.503279</td>\n      <td>0.339446</td>\n      <td>...</td>\n      <td>-0.633953</td>\n      <td>-0.641574</td>\n      <td>-0.8262</td>\n      <td>-0.922374</td>\n      <td>-0.437616</td>\n      <td>-0.125940</td>\n      <td>2.656729</td>\n      <td>-0.797259</td>\n      <td>-0.581199</td>\n      <td>1</td>\n    </tr>\n  </tbody>\n</table>\n<p>5 rows × 134 columns</p>\n</div>"
     },
     "execution_count": 3,
     "metadata": {},
     "output_type": "execute_result"
    }
   ],
   "source": [
    "forth.rename(columns={'@@class@@': 'class'}, inplace=True)\n",
    "forth['class'] = forth['class'].map(lambda c : int(c))\n",
    "\n",
    "forth.head()"
   ],
   "metadata": {
    "collapsed": false,
    "pycharm": {
     "name": "#%%\n"
    }
   }
  },
  {
   "cell_type": "code",
   "execution_count": 4,
   "outputs": [],
   "source": [
    "forth.to_csv('forth_trace.csv', index=False)\n"
   ],
   "metadata": {
    "collapsed": false,
    "pycharm": {
     "name": "#%%\n"
    }
   }
  }
 ],
 "metadata": {
  "kernelspec": {
   "display_name": "Python 3",
   "language": "python",
   "name": "python3"
  },
  "language_info": {
   "codemirror_mode": {
    "name": "ipython",
    "version": 2
   },
   "file_extension": ".py",
   "mimetype": "text/x-python",
   "name": "python",
   "nbconvert_exporter": "python",
   "pygments_lexer": "ipython2",
   "version": "2.7.6"
  }
 },
 "nbformat": 4,
 "nbformat_minor": 0
}