{
 "cells": [
  {
   "cell_type": "code",
   "execution_count": 1,
   "metadata": {
    "collapsed": true
   },
   "outputs": [],
   "source": [
    "import pandas as pd\n",
    "import numpy as np\n",
    "import matplotlib.pyplot as plt\n",
    "import seaborn as sns\n",
    "\n",
    "from sklearn.metrics import classification_report, confusion_matrix\n",
    "from sklearn.model_selection import cross_validate, train_test_split\n",
    "from sklearn.neural_network import MLPClassifier\n",
    "from sklearn.preprocessing import StandardScaler\n",
    "\n",
    "from imblearn.over_sampling import SMOTE\n",
    "from imblearn.pipeline import make_pipeline"
   ]
  },
  {
   "cell_type": "code",
   "execution_count": 2,
   "metadata": {
    "pycharm": {
     "name": "#%%\n"
    }
   },
   "outputs": [],
   "source": [
    "df = pd.read_csv('dataset.csv')\n",
    "X = df.drop(columns=['Activity'])\n",
    "y = df['Activity']\n",
    "\n",
    "# balanced_accuracy = (recall + specificity) / 2\n",
    "# roc_auc_ovr = ROC AUC OneVsRest (sensitive to class imbalance)\n",
    "# roc_auc_ovo = ROC AUC OneVsOne (insensitive to class imbalance)\n",
    "metrics = ['f1_weighted', 'roc_auc_ovr_weighted', 'roc_auc_ovo_weighted', 'balanced_accuracy', 'accuracy']"
   ]
  },
  {
   "cell_type": "markdown",
   "metadata": {
    "pycharm": {
     "name": "#%% md\n"
    }
   },
   "source": [
    "## Without pre-process"
   ]
  },
  {
   "cell_type": "code",
   "execution_count": 6,
   "metadata": {
    "pycharm": {
     "name": "#%%\n"
    }
   },
   "outputs": [
    {
     "name": "stdout",
     "output_type": "stream",
     "text": [
      "Hidden Layers = 50:\n",
      "\tf1:\n",
      "\t\tmean = 95.08%;\n",
      "\t\tstd = 0.02;\n",
      "\tROC AUC OneVsRest:\n",
      "\t\tmean = 99.84%;\n",
      "\t\tstd = 0.00;\n",
      "\tROC AUC OneVsOne:\n",
      "\t\tmean = 99.77%;\n",
      "\t\tstd = 0.00;\n",
      "\tbalanced accuracy:\n",
      "\t\tmean = 86.53%;\n",
      "\t\tstd = 0.03;\n",
      "\taccuracy:\n",
      "\t\tmean = 95.12%;\n",
      "\t\tstd = 0.02;\n",
      "Hidden Layers = 100:\n",
      "\tf1:\n",
      "\t\tmean = 95.01%;\n",
      "\t\tstd = 0.02;\n",
      "\tROC AUC OneVsRest:\n",
      "\t\tmean = 99.83%;\n",
      "\t\tstd = 0.00;\n",
      "\tROC AUC OneVsOne:\n",
      "\t\tmean = 99.73%;\n",
      "\t\tstd = 0.00;\n",
      "\tbalanced accuracy:\n",
      "\t\tmean = 86.05%;\n",
      "\t\tstd = 0.03;\n",
      "\taccuracy:\n",
      "\t\tmean = 95.06%;\n",
      "\t\tstd = 0.02;\n",
      "Hidden Layers = 150:\n",
      "\tf1:\n",
      "\t\tmean = 94.96%;\n",
      "\t\tstd = 0.02;\n",
      "\tROC AUC OneVsRest:\n",
      "\t\tmean = 99.83%;\n",
      "\t\tstd = 0.00;\n",
      "\tROC AUC OneVsOne:\n",
      "\t\tmean = 99.75%;\n",
      "\t\tstd = 0.00;\n",
      "\tbalanced accuracy:\n",
      "\t\tmean = 85.28%;\n",
      "\t\tstd = 0.03;\n",
      "\taccuracy:\n",
      "\t\tmean = 95.00%;\n",
      "\t\tstd = 0.02;\n",
      "Hidden Layers = 200:\n",
      "\tf1:\n",
      "\t\tmean = 95.14%;\n",
      "\t\tstd = 0.02;\n",
      "\tROC AUC OneVsRest:\n",
      "\t\tmean = 99.82%;\n",
      "\t\tstd = 0.00;\n",
      "\tROC AUC OneVsOne:\n",
      "\t\tmean = 99.74%;\n",
      "\t\tstd = 0.00;\n",
      "\tbalanced accuracy:\n",
      "\t\tmean = 85.93%;\n",
      "\t\tstd = 0.02;\n",
      "\taccuracy:\n",
      "\t\tmean = 95.18%;\n",
      "\t\tstd = 0.02;\n",
      "Hidden Layers = 250:\n",
      "\tf1:\n",
      "\t\tmean = 95.06%;\n",
      "\t\tstd = 0.02;\n",
      "\tROC AUC OneVsRest:\n",
      "\t\tmean = 99.84%;\n",
      "\t\tstd = 0.00;\n",
      "\tROC AUC OneVsOne:\n",
      "\t\tmean = 99.75%;\n",
      "\t\tstd = 0.00;\n",
      "\tbalanced accuracy:\n",
      "\t\tmean = 85.75%;\n",
      "\t\tstd = 0.03;\n",
      "\taccuracy:\n",
      "\t\tmean = 95.11%;\n",
      "\t\tstd = 0.02;\n",
      "Hidden Layers = 300:\n",
      "\tf1:\n",
      "\t\tmean = 95.07%;\n",
      "\t\tstd = 0.02;\n",
      "\tROC AUC OneVsRest:\n",
      "\t\tmean = 99.83%;\n",
      "\t\tstd = 0.00;\n",
      "\tROC AUC OneVsOne:\n",
      "\t\tmean = 99.75%;\n",
      "\t\tstd = 0.00;\n",
      "\tbalanced accuracy:\n",
      "\t\tmean = 86.22%;\n",
      "\t\tstd = 0.02;\n",
      "\taccuracy:\n",
      "\t\tmean = 95.10%;\n",
      "\t\tstd = 0.02;\n",
      "Hidden Layers = 350:\n",
      "\tf1:\n",
      "\t\tmean = 95.01%;\n",
      "\t\tstd = 0.02;\n",
      "\tROC AUC OneVsRest:\n",
      "\t\tmean = 99.84%;\n",
      "\t\tstd = 0.00;\n",
      "\tROC AUC OneVsOne:\n",
      "\t\tmean = 99.75%;\n",
      "\t\tstd = 0.00;\n",
      "\tbalanced accuracy:\n",
      "\t\tmean = 85.07%;\n",
      "\t\tstd = 0.03;\n",
      "\taccuracy:\n",
      "\t\tmean = 95.05%;\n",
      "\t\tstd = 0.02;\n",
      "Hidden Layers = 400:\n",
      "\tf1:\n",
      "\t\tmean = 95.00%;\n",
      "\t\tstd = 0.02;\n",
      "\tROC AUC OneVsRest:\n",
      "\t\tmean = 99.83%;\n",
      "\t\tstd = 0.00;\n",
      "\tROC AUC OneVsOne:\n",
      "\t\tmean = 99.75%;\n",
      "\t\tstd = 0.00;\n",
      "\tbalanced accuracy:\n",
      "\t\tmean = 85.53%;\n",
      "\t\tstd = 0.03;\n",
      "\taccuracy:\n",
      "\t\tmean = 95.06%;\n",
      "\t\tstd = 0.02;\n",
      "Hidden Layers = 450:\n",
      "\tf1:\n",
      "\t\tmean = 94.88%;\n",
      "\t\tstd = 0.02;\n",
      "\tROC AUC OneVsRest:\n",
      "\t\tmean = 99.83%;\n",
      "\t\tstd = 0.00;\n",
      "\tROC AUC OneVsOne:\n",
      "\t\tmean = 99.74%;\n",
      "\t\tstd = 0.00;\n",
      "\tbalanced accuracy:\n",
      "\t\tmean = 85.51%;\n",
      "\t\tstd = 0.03;\n",
      "\taccuracy:\n",
      "\t\tmean = 94.93%;\n",
      "\t\tstd = 0.02;\n",
      "Hidden Layers = 500:\n",
      "\tf1:\n",
      "\t\tmean = 95.02%;\n",
      "\t\tstd = 0.02;\n",
      "\tROC AUC OneVsRest:\n",
      "\t\tmean = 99.83%;\n",
      "\t\tstd = 0.00;\n",
      "\tROC AUC OneVsOne:\n",
      "\t\tmean = 99.75%;\n",
      "\t\tstd = 0.00;\n",
      "\tbalanced accuracy:\n",
      "\t\tmean = 84.80%;\n",
      "\t\tstd = 0.03;\n",
      "\taccuracy:\n",
      "\t\tmean = 95.07%;\n",
      "\t\tstd = 0.02;\n"
     ]
    }
   ],
   "source": [
    "for i in range(1,11):\n",
    "    mpl = MLPClassifier(activation = 'logistic',\n",
    "                    solver='adam',\n",
    "                    alpha=1e-5,\n",
    "                    learning_rate = 'invscaling',\n",
    "                    max_iter = 500,\n",
    "                    hidden_layer_sizes=(i*50,),\n",
    "                    random_state=42)\n",
    "\n",
    "    result = cross_validate(mpl, X, y, cv=10, scoring=metrics,\n",
    "                            return_train_score=True, n_jobs=-1)\n",
    "    print(\"Hidden Layers = \" + str(mpl.hidden_layer_sizes[0]) + \":\")\n",
    "\n",
    "    print(\"\\tf1:\")\n",
    "    print(\"\\t\\tmean = {mean:.2f}%;\\n\\t\\tstd = {std:.2f};\"\n",
    "        .format(mean = result.get('test_f1_weighted').mean()*100,\n",
    "                std = result.get('test_f1_weighted').std()))\n",
    "\n",
    "    print(\"\\tROC AUC OneVsRest:\")\n",
    "    print(\"\\t\\tmean = {mean:.2f}%;\\n\\t\\tstd = {std:.2f};\"\n",
    "        .format(mean = result.get('test_roc_auc_ovr_weighted').mean()*100,\n",
    "                std = result.get('test_roc_auc_ovr_weighted').std()))\n",
    "\n",
    "    print(\"\\tROC AUC OneVsOne:\")\n",
    "    print(\"\\t\\tmean = {mean:.2f}%;\\n\\t\\tstd = {std:.2f};\"\n",
    "        .format(mean = result.get('test_roc_auc_ovo_weighted').mean()*100,\n",
    "                std = result.get('test_roc_auc_ovo_weighted').std()))\n",
    "\n",
    "    print(\"\\tbalanced accuracy:\")\n",
    "    print(\"\\t\\tmean = {mean:.2f}%;\\n\\t\\tstd = {std:.2f};\"\n",
    "        .format(mean = result.get('test_balanced_accuracy').mean()*100,\n",
    "                std = result.get('test_balanced_accuracy').std()))\n",
    "\n",
    "    print(\"\\taccuracy:\")\n",
    "    print(\"\\t\\tmean = {mean:.2f}%;\\n\\t\\tstd = {std:.2f};\"\n",
    "          .format(mean = result.get('test_accuracy').mean()*100,\n",
    "                  std = result.get('test_accuracy').std()))\n",
    "\n",
    "# best hidden layer size: 200"
   ]
  },
  {
   "cell_type": "markdown",
   "metadata": {
    "pycharm": {
     "name": "#%% md\n"
    }
   },
   "source": [
    "## Report"
   ]
  },
  {
   "cell_type": "code",
   "execution_count": 3,
   "metadata": {
    "pycharm": {
     "name": "#%%\n"
    }
   },
   "outputs": [
    {
     "name": "stdout",
     "output_type": "stream",
     "text": [
      "                    precision    recall  f1-score   support\n",
      "\n",
      "            LAYING       0.99      1.00      1.00       587\n",
      "        LIE_TO_SIT       0.79      0.85      0.81        26\n",
      "      LIE_TO_STAND       0.80      0.64      0.71        25\n",
      "           SITTING       0.97      0.95      0.96       540\n",
      "        SIT_TO_LIE       0.74      0.91      0.82        32\n",
      "      SIT_TO_STAND       0.77      1.00      0.87        10\n",
      "          STANDING       0.96      0.97      0.97       594\n",
      "      STAND_TO_LIE       0.87      0.79      0.82        42\n",
      "      STAND_TO_SIT       0.93      0.62      0.74        21\n",
      "           WALKING       1.00      1.00      1.00       517\n",
      "WALKING_DOWNSTAIRS       1.00      1.00      1.00       422\n",
      "  WALKING_UPSTAIRS       1.00      1.00      1.00       463\n",
      "\n",
      "          accuracy                           0.98      3279\n",
      "         macro avg       0.90      0.89      0.89      3279\n",
      "      weighted avg       0.98      0.98      0.98      3279\n",
      "\n"
     ]
    }
   ],
   "source": [
    "X_train, X_test, y_train, y_test = train_test_split(X, y, stratify=y, train_size=0.7, random_state=42)\n",
    "mlp = MLPClassifier(activation = 'logistic',\n",
    "                    solver='adam',\n",
    "                    alpha=1e-5,\n",
    "                    learning_rate = 'invscaling',\n",
    "                    max_iter = 500,\n",
    "                    hidden_layer_sizes=(200,),\n",
    "                    random_state=42)\n",
    "mlp.fit(X_train, y_train)\n",
    "y_pred = mlp.predict(X_test)\n",
    "report = classification_report(y_test, y_pred)\n",
    "print(report)"
   ]
  },
  {
   "cell_type": "code",
   "execution_count": null,
   "outputs": [],
   "source": [
    "cf_matrix = confusion_matrix(y_test, y_pred)\n",
    "\n",
    "categories = np.unique(y).tolist()\n",
    "plt.figure(figsize=(13,10))\n",
    "plt.title('Classificação Única')\n",
    "sns.heatmap(cf_matrix, annot=True, fmt=\"\", cmap='Blues', cbar=True, xticklabels=categories, yticklabels=categories)"
   ],
   "metadata": {
    "collapsed": false,
    "pycharm": {
     "name": "#%%\n"
    }
   }
  },
  {
   "cell_type": "code",
   "execution_count": 5,
   "metadata": {
    "pycharm": {
     "name": "#%%\n"
    }
   },
   "outputs": [
    {
     "data": {
      "text/plain": [
       "<matplotlib.axes._subplots.AxesSubplot at 0x7f73800b2820>"
      ]
     },
     "execution_count": 5,
     "metadata": {},
     "output_type": "execute_result"
    },
    {
     "data": {
      "image/png": "[encoded data removed]",
      "text/plain": [
       "<Figure size 936x720 with 2 Axes>"
      ]
     },
     "metadata": {
      "needs_background": "light"
     },
     "output_type": "display_data"
    }
   ],
   "source": [
    "## Standardization"
   ]
  },
  {
   "cell_type": "markdown",
   "metadata": {
    "pycharm": {
     "name": "#%% md\n"
    }
   },
   "source": [
    "## Standardization"
   ]
  },
  {
   "cell_type": "code",
   "execution_count": 13,
   "metadata": {
    "pycharm": {
     "name": "#%%\n"
    }
   },
   "outputs": [
    {
     "name": "stdout",
     "output_type": "stream",
     "text": [
      "Hidden Layers = 50:\n",
      "\tf1:\n",
      "\t\tmean = 94.94%;\n",
      "\t\tstd = 0.02;\n",
      "\tROC AUC OneVsRest:\n",
      "\t\tmean = 99.79%;\n",
      "\t\tstd = 0.00;\n",
      "\tROC AUC OneVsOne:\n",
      "\t\tmean = 99.68%;\n",
      "\t\tstd = 0.00;\n",
      "\tbalanced accuracy:\n",
      "\t\tmean = 87.29%;\n",
      "\t\tstd = 0.03;\n",
      "\taccuracy:\n",
      "\t\tmean = 94.98%;\n",
      "\t\tstd = 0.02;\n",
      "Hidden Layers = 100:\n",
      "\tf1:\n",
      "\t\tmean = 94.94%;\n",
      "\t\tstd = 0.02;\n",
      "\tROC AUC OneVsRest:\n",
      "\t\tmean = 99.79%;\n",
      "\t\tstd = 0.00;\n",
      "\tROC AUC OneVsOne:\n",
      "\t\tmean = 99.70%;\n",
      "\t\tstd = 0.00;\n",
      "\tbalanced accuracy:\n",
      "\t\tmean = 86.03%;\n",
      "\t\tstd = 0.02;\n",
      "\taccuracy:\n",
      "\t\tmean = 94.98%;\n",
      "\t\tstd = 0.02;\n",
      "Hidden Layers = 150:\n",
      "\tf1:\n",
      "\t\tmean = 94.92%;\n",
      "\t\tstd = 0.02;\n",
      "\tROC AUC OneVsRest:\n",
      "\t\tmean = 99.79%;\n",
      "\t\tstd = 0.00;\n",
      "\tROC AUC OneVsOne:\n",
      "\t\tmean = 99.72%;\n",
      "\t\tstd = 0.00;\n",
      "\tbalanced accuracy:\n",
      "\t\tmean = 86.69%;\n",
      "\t\tstd = 0.02;\n",
      "\taccuracy:\n",
      "\t\tmean = 94.96%;\n",
      "\t\tstd = 0.02;\n",
      "Hidden Layers = 200:\n",
      "\tf1:\n",
      "\t\tmean = 94.78%;\n",
      "\t\tstd = 0.02;\n",
      "\tROC AUC OneVsRest:\n",
      "\t\tmean = 99.79%;\n",
      "\t\tstd = 0.00;\n",
      "\tROC AUC OneVsOne:\n",
      "\t\tmean = 99.72%;\n",
      "\t\tstd = 0.00;\n",
      "\tbalanced accuracy:\n",
      "\t\tmean = 87.08%;\n",
      "\t\tstd = 0.02;\n",
      "\taccuracy:\n",
      "\t\tmean = 94.83%;\n",
      "\t\tstd = 0.02;\n",
      "Hidden Layers = 250:\n",
      "\tf1:\n",
      "\t\tmean = 94.75%;\n",
      "\t\tstd = 0.02;\n",
      "\tROC AUC OneVsRest:\n",
      "\t\tmean = 99.80%;\n",
      "\t\tstd = 0.00;\n",
      "\tROC AUC OneVsOne:\n",
      "\t\tmean = 99.73%;\n",
      "\t\tstd = 0.00;\n",
      "\tbalanced accuracy:\n",
      "\t\tmean = 86.31%;\n",
      "\t\tstd = 0.02;\n",
      "\taccuracy:\n",
      "\t\tmean = 94.80%;\n",
      "\t\tstd = 0.02;\n",
      "Hidden Layers = 300:\n",
      "\tf1:\n",
      "\t\tmean = 94.86%;\n",
      "\t\tstd = 0.02;\n",
      "\tROC AUC OneVsRest:\n",
      "\t\tmean = 99.80%;\n",
      "\t\tstd = 0.00;\n",
      "\tROC AUC OneVsOne:\n",
      "\t\tmean = 99.74%;\n",
      "\t\tstd = 0.00;\n",
      "\tbalanced accuracy:\n",
      "\t\tmean = 86.45%;\n",
      "\t\tstd = 0.02;\n",
      "\taccuracy:\n",
      "\t\tmean = 94.90%;\n",
      "\t\tstd = 0.02;\n"
     ]
    }
   ],
   "source": [
    "X_std = StandardScaler().fit_transform(X.copy())\n",
    "\n",
    "for i in range(1,7):\n",
    "    mpl = MLPClassifier(activation = 'logistic',\n",
    "                    solver='adam',\n",
    "                    alpha=1e-5,\n",
    "                    learning_rate = 'invscaling',\n",
    "                    max_iter = 500,\n",
    "                    hidden_layer_sizes=(i*50,),\n",
    "                    random_state=42)\n",
    "\n",
    "    result = cross_validate(mpl, X_std, y, cv=10, scoring=metrics,\n",
    "                            return_train_score=True, n_jobs=-1)\n",
    "    print(\"Hidden Layers = \" + str(mpl.hidden_layer_sizes[0]) + \":\")\n",
    "\n",
    "    print(\"\\tf1:\")\n",
    "    print(\"\\t\\tmean = {mean:.2f}%;\\n\\t\\tstd = {std:.2f};\"\n",
    "        .format(mean = result.get('test_f1_weighted').mean()*100,\n",
    "                std = result.get('test_f1_weighted').std()))\n",
    "\n",
    "    print(\"\\tROC AUC OneVsRest:\")\n",
    "    print(\"\\t\\tmean = {mean:.2f}%;\\n\\t\\tstd = {std:.2f};\"\n",
    "        .format(mean = result.get('test_roc_auc_ovr_weighted').mean()*100,\n",
    "                std = result.get('test_roc_auc_ovr_weighted').std()))\n",
    "\n",
    "    print(\"\\tROC AUC OneVsOne:\")\n",
    "    print(\"\\t\\tmean = {mean:.2f}%;\\n\\t\\tstd = {std:.2f};\"\n",
    "        .format(mean = result.get('test_roc_auc_ovo_weighted').mean()*100,\n",
    "                std = result.get('test_roc_auc_ovo_weighted').std()))\n",
    "\n",
    "    print(\"\\tbalanced accuracy:\")\n",
    "    print(\"\\t\\tmean = {mean:.2f}%;\\n\\t\\tstd = {std:.2f};\"\n",
    "        .format(mean = result.get('test_balanced_accuracy').mean()*100,\n",
    "                std = result.get('test_balanced_accuracy').std()))\n",
    "\n",
    "    print(\"\\taccuracy:\")\n",
    "    print(\"\\t\\tmean = {mean:.2f}%;\\n\\t\\tstd = {std:.2f};\"\n",
    "          .format(mean = result.get('test_accuracy').mean()*100,\n",
    "                  std = result.get('test_accuracy').std()))\n",
    "\n",
    "# best hidden layer size: meh"
   ]
  },
  {
   "cell_type": "markdown",
   "metadata": {
    "pycharm": {
     "name": "#%% md\n"
    }
   },
   "source": [
    "## Oversampling"
   ]
  },
  {
   "cell_type": "code",
   "execution_count": 3,
   "metadata": {
    "pycharm": {
     "name": "#%%\n"
    }
   },
   "outputs": [
    {
     "name": "stdout",
     "output_type": "stream",
     "text": [
      "Hidden Layers = 50:\n",
      "\tf1:\n",
      "\t\tmean = 94.84%;\n",
      "\t\tstd = 0.02;\n",
      "\tROC AUC OneVsRest:\n",
      "\t\tmean = 99.77%;\n",
      "\t\tstd = 0.00;\n",
      "\tROC AUC OneVsOne:\n",
      "\t\tmean = 99.61%;\n",
      "\t\tstd = 0.00;\n",
      "\tbalanced accuracy:\n",
      "\t\tmean = 86.63%;\n",
      "\t\tstd = 0.03;\n",
      "\taccuracy:\n",
      "\t\tmean = 94.86%;\n",
      "\t\tstd = 0.02;\n",
      "Hidden Layers = 100:\n",
      "\tf1:\n",
      "\t\tmean = 94.72%;\n",
      "\t\tstd = 0.02;\n",
      "\tROC AUC OneVsRest:\n",
      "\t\tmean = 99.79%;\n",
      "\t\tstd = 0.00;\n",
      "\tROC AUC OneVsOne:\n",
      "\t\tmean = 99.66%;\n",
      "\t\tstd = 0.00;\n",
      "\tbalanced accuracy:\n",
      "\t\tmean = 86.47%;\n",
      "\t\tstd = 0.03;\n",
      "\taccuracy:\n",
      "\t\tmean = 94.76%;\n",
      "\t\tstd = 0.02;\n",
      "Hidden Layers = 150:\n",
      "\tf1:\n",
      "\t\tmean = 94.81%;\n",
      "\t\tstd = 0.02;\n",
      "\tROC AUC OneVsRest:\n",
      "\t\tmean = 99.78%;\n",
      "\t\tstd = 0.00;\n",
      "\tROC AUC OneVsOne:\n",
      "\t\tmean = 99.65%;\n",
      "\t\tstd = 0.00;\n",
      "\tbalanced accuracy:\n",
      "\t\tmean = 86.36%;\n",
      "\t\tstd = 0.03;\n",
      "\taccuracy:\n",
      "\t\tmean = 94.85%;\n",
      "\t\tstd = 0.02;\n",
      "Hidden Layers = 200:\n",
      "\tf1:\n",
      "\t\tmean = 94.47%;\n",
      "\t\tstd = 0.02;\n",
      "\tROC AUC OneVsRest:\n",
      "\t\tmean = 99.78%;\n",
      "\t\tstd = 0.00;\n",
      "\tROC AUC OneVsOne:\n",
      "\t\tmean = 99.64%;\n",
      "\t\tstd = 0.00;\n",
      "\tbalanced accuracy:\n",
      "\t\tmean = 86.18%;\n",
      "\t\tstd = 0.02;\n",
      "\taccuracy:\n",
      "\t\tmean = 94.50%;\n",
      "\t\tstd = 0.02;\n",
      "Hidden Layers = 250:\n",
      "\tf1:\n",
      "\t\tmean = 94.85%;\n",
      "\t\tstd = 0.02;\n",
      "\tROC AUC OneVsRest:\n",
      "\t\tmean = 99.80%;\n",
      "\t\tstd = 0.00;\n",
      "\tROC AUC OneVsOne:\n",
      "\t\tmean = 99.67%;\n",
      "\t\tstd = 0.00;\n",
      "\tbalanced accuracy:\n",
      "\t\tmean = 86.09%;\n",
      "\t\tstd = 0.02;\n",
      "\taccuracy:\n",
      "\t\tmean = 94.89%;\n",
      "\t\tstd = 0.02;\n",
      "Hidden Layers = 300:\n",
      "\tf1:\n",
      "\t\tmean = 94.64%;\n",
      "\t\tstd = 0.02;\n",
      "\tROC AUC OneVsRest:\n",
      "\t\tmean = 99.78%;\n",
      "\t\tstd = 0.00;\n",
      "\tROC AUC OneVsOne:\n",
      "\t\tmean = 99.65%;\n",
      "\t\tstd = 0.00;\n",
      "\tbalanced accuracy:\n",
      "\t\tmean = 86.57%;\n",
      "\t\tstd = 0.02;\n",
      "\taccuracy:\n",
      "\t\tmean = 94.67%;\n",
      "\t\tstd = 0.02;\n"
     ]
    }
   ],
   "source": [
    "for i in range(1,7):\n",
    "    mpl = MLPClassifier(activation = 'logistic',\n",
    "                    solver='adam',\n",
    "                    alpha=1e-5,\n",
    "                    learning_rate = 'invscaling',\n",
    "                    max_iter = 500,\n",
    "                    hidden_layer_sizes=(i*50,),\n",
    "                    random_state=42)\n",
    "\n",
    "    steps = [StandardScaler(), SMOTE(random_state=42), mpl]\n",
    "    imba_pipeline = make_pipeline(*steps)\n",
    "\n",
    "    result = cross_validate(imba_pipeline, X, y, cv=10, scoring=metrics, n_jobs=-1)\n",
    "\n",
    "    print(\"Hidden Layers = \" + str(mpl.hidden_layer_sizes[0]) + \":\")\n",
    "\n",
    "    print(\"\\tf1:\")\n",
    "    print(\"\\t\\tmean = {mean:.2f}%;\\n\\t\\tstd = {std:.2f};\"\n",
    "        .format(mean = result.get('test_f1_weighted').mean()*100,\n",
    "                std = result.get('test_f1_weighted').std()))\n",
    "\n",
    "    print(\"\\tROC AUC OneVsRest:\")\n",
    "    print(\"\\t\\tmean = {mean:.2f}%;\\n\\t\\tstd = {std:.2f};\"\n",
    "        .format(mean = result.get('test_roc_auc_ovr_weighted').mean()*100,\n",
    "                std = result.get('test_roc_auc_ovr_weighted').std()))\n",
    "\n",
    "    print(\"\\tROC AUC OneVsOne:\")\n",
    "    print(\"\\t\\tmean = {mean:.2f}%;\\n\\t\\tstd = {std:.2f};\"\n",
    "        .format(mean = result.get('test_roc_auc_ovo_weighted').mean()*100,\n",
    "                std = result.get('test_roc_auc_ovo_weighted').std()))\n",
    "\n",
    "    print(\"\\tbalanced accuracy:\")\n",
    "    print(\"\\t\\tmean = {mean:.2f}%;\\n\\t\\tstd = {std:.2f};\"\n",
    "        .format(mean = result.get('test_balanced_accuracy').mean()*100,\n",
    "                std = result.get('test_balanced_accuracy').std()))\n",
    "\n",
    "    print(\"\\taccuracy:\")\n",
    "    print(\"\\t\\tmean = {mean:.2f}%;\\n\\t\\tstd = {std:.2f};\"\n",
    "          .format(mean = result.get('test_accuracy').mean()*100,\n",
    "                  std = result.get('test_accuracy').std()))\n",
    "\n",
    "# best hidden layer size: 250"
   ]
  },
  {
   "cell_type": "markdown",
   "metadata": {
    "pycharm": {
     "name": "#%% md\n"
    }
   },
   "source": [
    "## Teste"
   ]
  },
  {
   "cell_type": "code",
   "execution_count": 3,
   "metadata": {
    "pycharm": {
     "name": "#%%\n"
    }
   },
   "outputs": [
    {
     "name": "stdout",
     "output_type": "stream",
     "text": [
      "Hidden Layers = 350:\n",
      "\tf1:\n",
      "\t\tmean = 94.67%;\n",
      "\t\tstd = 0.02;\n",
      "\tROC AUC OneVsRest:\n",
      "\t\tmean = 99.79%;\n",
      "\t\tstd = 0.00;\n",
      "\tROC AUC OneVsOne:\n",
      "\t\tmean = 99.66%;\n",
      "\t\tstd = 0.00;\n",
      "\tbalanced accuracy:\n",
      "\t\tmean = 86.04%;\n",
      "\t\tstd = 0.02;\n",
      "\taccuracy:\n",
      "\t\tmean = 94.71%;\n",
      "\t\tstd = 0.02;\n",
      "Hidden Layers = 400:\n",
      "\tf1:\n",
      "\t\tmean = 94.87%;\n",
      "\t\tstd = 0.02;\n",
      "\tROC AUC OneVsRest:\n",
      "\t\tmean = 99.79%;\n",
      "\t\tstd = 0.00;\n",
      "\tROC AUC OneVsOne:\n",
      "\t\tmean = 99.66%;\n",
      "\t\tstd = 0.00;\n",
      "\tbalanced accuracy:\n",
      "\t\tmean = 86.16%;\n",
      "\t\tstd = 0.02;\n",
      "\taccuracy:\n",
      "\t\tmean = 94.91%;\n",
      "\t\tstd = 0.02;\n",
      "Hidden Layers = 450:\n",
      "\tf1:\n",
      "\t\tmean = 94.68%;\n",
      "\t\tstd = 0.02;\n",
      "\tROC AUC OneVsRest:\n",
      "\t\tmean = 99.79%;\n",
      "\t\tstd = 0.00;\n",
      "\tROC AUC OneVsOne:\n",
      "\t\tmean = 99.68%;\n",
      "\t\tstd = 0.00;\n",
      "\tbalanced accuracy:\n",
      "\t\tmean = 85.70%;\n",
      "\t\tstd = 0.03;\n",
      "\taccuracy:\n",
      "\t\tmean = 94.72%;\n",
      "\t\tstd = 0.02;\n",
      "Hidden Layers = 500:\n",
      "\tf1:\n",
      "\t\tmean = 94.57%;\n",
      "\t\tstd = 0.02;\n",
      "\tROC AUC OneVsRest:\n",
      "\t\tmean = 99.78%;\n",
      "\t\tstd = 0.00;\n",
      "\tROC AUC OneVsOne:\n",
      "\t\tmean = 99.64%;\n",
      "\t\tstd = 0.00;\n",
      "\tbalanced accuracy:\n",
      "\t\tmean = 86.23%;\n",
      "\t\tstd = 0.03;\n",
      "\taccuracy:\n",
      "\t\tmean = 94.62%;\n",
      "\t\tstd = 0.02;\n"
     ]
    }
   ],
   "source": [
    "for i in range(7,11):\n",
    "    mpl = MLPClassifier(activation = 'logistic',\n",
    "                    solver='adam',\n",
    "                    alpha=1e-5,\n",
    "                    learning_rate = 'invscaling',\n",
    "                    max_iter = 500,\n",
    "                    hidden_layer_sizes=(i*50,),\n",
    "                    random_state=42)\n",
    "\n",
    "    steps = [StandardScaler(), SMOTE(random_state=42), mpl]\n",
    "    imba_pipeline = make_pipeline(*steps)\n",
    "\n",
    "    result = cross_validate(imba_pipeline, X, y, cv=10, scoring=metrics, n_jobs=-1)\n",
    "\n",
    "    print(\"Hidden Layers = \" + str(mpl.hidden_layer_sizes[0]) + \":\")\n",
    "\n",
    "    print(\"\\tf1:\")\n",
    "    print(\"\\t\\tmean = {mean:.2f}%;\\n\\t\\tstd = {std:.2f};\"\n",
    "        .format(mean = result.get('test_f1_weighted').mean()*100,\n",
    "                std = result.get('test_f1_weighted').std()))\n",
    "\n",
    "    print(\"\\tROC AUC OneVsRest:\")\n",
    "    print(\"\\t\\tmean = {mean:.2f}%;\\n\\t\\tstd = {std:.2f};\"\n",
    "        .format(mean = result.get('test_roc_auc_ovr_weighted').mean()*100,\n",
    "                std = result.get('test_roc_auc_ovr_weighted').std()))\n",
    "\n",
    "    print(\"\\tROC AUC OneVsOne:\")\n",
    "    print(\"\\t\\tmean = {mean:.2f}%;\\n\\t\\tstd = {std:.2f};\"\n",
    "        .format(mean = result.get('test_roc_auc_ovo_weighted').mean()*100,\n",
    "                std = result.get('test_roc_auc_ovo_weighted').std()))\n",
    "\n",
    "    print(\"\\tbalanced accuracy:\")\n",
    "    print(\"\\t\\tmean = {mean:.2f}%;\\n\\t\\tstd = {std:.2f};\"\n",
    "        .format(mean = result.get('test_balanced_accuracy').mean()*100,\n",
    "                std = result.get('test_balanced_accuracy').std()))\n",
    "\n",
    "    print(\"\\taccuracy:\")\n",
    "    print(\"\\t\\tmean = {mean:.2f}%;\\n\\t\\tstd = {std:.2f};\"\n",
    "          .format(mean = result.get('test_accuracy').mean()*100,\n",
    "                  std = result.get('test_accuracy').std()))"
   ]
  },
  {
   "cell_type": "markdown",
   "metadata": {
    "pycharm": {
     "name": "#%% md\n"
    }
   },
   "source": [
    "## Report"
   ]
  },
  {
   "cell_type": "code",
   "execution_count": 3,
   "metadata": {
    "pycharm": {
     "name": "#%%\n"
    }
   },
   "outputs": [
    {
     "name": "stdout",
     "output_type": "stream",
     "text": [
      "                    precision    recall  f1-score   support\n",
      "\n",
      "            LAYING       0.99      1.00      1.00       587\n",
      "        LIE_TO_SIT       0.79      0.88      0.84        26\n",
      "      LIE_TO_STAND       0.84      0.64      0.73        25\n",
      "           SITTING       0.96      0.96      0.96       540\n",
      "        SIT_TO_LIE       0.68      0.94      0.79        32\n",
      "      SIT_TO_STAND       0.67      1.00      0.80        10\n",
      "          STANDING       0.97      0.97      0.97       594\n",
      "      STAND_TO_LIE       0.94      0.69      0.79        42\n",
      "      STAND_TO_SIT       0.92      0.57      0.71        21\n",
      "           WALKING       1.00      1.00      1.00       517\n",
      "WALKING_DOWNSTAIRS       1.00      1.00      1.00       422\n",
      "  WALKING_UPSTAIRS       0.99      1.00      1.00       463\n",
      "\n",
      "          accuracy                           0.98      3279\n",
      "         macro avg       0.90      0.89      0.88      3279\n",
      "      weighted avg       0.98      0.98      0.98      3279\n",
      "\n"
     ]
    }
   ],
   "source": [
    "X_norm = StandardScaler().fit_transform(X.copy())\n",
    "X_train, X_test, y_train, y_test = train_test_split(X_norm, y, stratify=y, train_size=0.7, random_state=42)\n",
    "X_train, y_train = SMOTE(n_jobs=-1, random_state=42).fit_sample(X_train, y_train)\n",
    "\n",
    "mlp = MLPClassifier(activation = 'logistic',\n",
    "                    solver='adam',\n",
    "                    alpha=1e-5,\n",
    "                    learning_rate = 'invscaling',\n",
    "                    max_iter = 500,\n",
    "                    hidden_layer_sizes=(250,),\n",
    "                    random_state=42)\n",
    "mlp.fit(X_train, y_train)\n",
    "y_pred = mlp.predict(X_test)\n",
    "report = classification_report(y_test, y_pred)\n",
    "print(report)\n"
   ]
  }
 ],
 "metadata": {
  "kernelspec": {
   "display_name": "Python 3",
   "language": "python",
   "name": "python3"
  },
  "language_info": {
   "codemirror_mode": {
    "name": "ipython",
    "version": 3
   },
   "file_extension": ".py",
   "mimetype": "text/x-python",
   "name": "python",
   "nbconvert_exporter": "python",
   "pygments_lexer": "ipython3",
   "version": "3.8.3"
  }
 },
 "nbformat": 4,
 "nbformat_minor": 1
}