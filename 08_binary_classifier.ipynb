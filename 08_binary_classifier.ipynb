{
 "cells": [
  {
   "cell_type": "code",
   "execution_count": 19,
   "metadata": {
    "collapsed": true
   },
   "outputs": [],
   "source": [
    "import pandas as pd\n",
    "from sklearn.svm import SVC\n",
    "from sklearn.metrics import classification_report\n",
    "from sklearn.model_selection import cross_validate, train_test_split, GridSearchCV\n",
    "from sklearn.linear_model import LogisticRegression\n",
    "from sklearn.naive_bayes import GaussianNB\n",
    "from sklearn.neighbors import KNeighborsClassifier\n",
    "from sklearn.tree import DecisionTreeClassifier\n",
    "from sklearn.ensemble import RandomForestClassifier\n",
    "from sklearn.neural_network import MLPClassifier"
   ]
  },
  {
   "cell_type": "code",
   "execution_count": 2,
   "outputs": [],
   "source": [
    "df = pd.read_csv('dataset.csv')\n",
    "X = df.drop(columns=['Activity'])\n",
    "y = df['Activity']\n",
    "\n",
    "y = [\n",
    "    0 if a.startswith('WALKING') or '_' not in a\n",
    "    else 1\n",
    "    for a in y\n",
    "]\n",
    "\n",
    "metrics = ['f1_weighted', 'roc_auc_ovr_weighted', 'roc_auc_ovo_weighted', 'balanced_accuracy', 'accuracy']"
   ],
   "metadata": {
    "collapsed": false,
    "pycharm": {
     "name": "#%%\n"
    }
   }
  },
  {
   "cell_type": "markdown",
   "source": [
    "## SVM"
   ],
   "metadata": {
    "collapsed": false
   }
  },
  {
   "cell_type": "code",
   "execution_count": 26,
   "outputs": [
    {
     "name": "stdout",
     "output_type": "stream",
     "text": [
      "{'C': 100, 'kernel': 'rbf'}\n"
     ]
    }
   ],
   "source": [
    "params = {\n",
    "    'C':[0.001,0.01,0.1,1,10,100],\n",
    "    'kernel': ['linear', 'poly', 'rbf', 'sigmoid']\n",
    "}\n",
    "\n",
    "X_train, X_test, y_train, y_test = train_test_split(X, y, stratify=y, train_size=0.7, random_state=42)\n",
    "\n",
    "grid = GridSearchCV(SVC(probability=True, random_state=42), params, cv=10, n_jobs=-1, scoring='f1_weighted')\n",
    "grid.fit(X_train, y_train)\n",
    "grid.predict(X_train)\n",
    "print(grid.best_params_)"
   ],
   "metadata": {
    "collapsed": false,
    "pycharm": {
     "name": "#%%\n"
    }
   }
  },
  {
   "cell_type": "code",
   "execution_count": 27,
   "outputs": [
    {
     "name": "stdout",
     "output_type": "stream",
     "text": [
      "\tf1:\n",
      "\t\tmean = 99.70%;\n",
      "\t\tstd = 0.00;\n",
      "\tROC AUC OneVsRest:\n",
      "\t\tmean = 99.71%;\n",
      "\t\tstd = 0.01;\n",
      "\tROC AUC OneVsOne:\n",
      "\t\tmean = 99.71%;\n",
      "\t\tstd = 0.01;\n",
      "\tbalanced accuracy:\n",
      "\t\tmean = 97.92%;\n",
      "\t\tstd = 0.02;\n",
      "\taccuracy:\n",
      "\t\tmean = 99.70%;\n",
      "\t\tstd = 0.00;\n"
     ]
    }
   ],
   "source": [
    "svmClass = SVC(C=100, kernel='rbf', probability=True, random_state=42)\n",
    "result = cross_validate(svmClass, X, y, cv=10, scoring=metrics,\n",
    "                        return_train_score=True, n_jobs=-1)\n",
    "\n",
    "print(\"\\tf1:\")\n",
    "print(\"\\t\\tmean = {mean:.2f}%;\\n\\t\\tstd = {std:.2f};\"\n",
    "    .format(mean = result.get('test_f1_weighted').mean()*100,\n",
    "            std = result.get('test_f1_weighted').std()))\n",
    "\n",
    "print(\"\\tROC AUC OneVsRest:\")\n",
    "print(\"\\t\\tmean = {mean:.2f}%;\\n\\t\\tstd = {std:.2f};\"\n",
    "    .format(mean = result.get('test_roc_auc_ovr_weighted').mean()*100,\n",
    "            std = result.get('test_roc_auc_ovr_weighted').std()))\n",
    "\n",
    "print(\"\\tROC AUC OneVsOne:\")\n",
    "print(\"\\t\\tmean = {mean:.2f}%;\\n\\t\\tstd = {std:.2f};\"\n",
    "    .format(mean = result.get('test_roc_auc_ovo_weighted').mean()*100,\n",
    "            std = result.get('test_roc_auc_ovo_weighted').std()))\n",
    "\n",
    "print(\"\\tbalanced accuracy:\")\n",
    "print(\"\\t\\tmean = {mean:.2f}%;\\n\\t\\tstd = {std:.2f};\"\n",
    "    .format(mean = result.get('test_balanced_accuracy').mean()*100,\n",
    "            std = result.get('test_balanced_accuracy').std()))\n",
    "\n",
    "print(\"\\taccuracy:\")\n",
    "print(\"\\t\\tmean = {mean:.2f}%;\\n\\t\\tstd = {std:.2f};\"\n",
    "      .format(mean = result.get('test_accuracy').mean()*100,\n",
    "              std = result.get('test_accuracy').std()))"
   ],
   "metadata": {
    "collapsed": false,
    "pycharm": {
     "name": "#%%\n"
    }
   }
  },
  {
   "cell_type": "markdown",
   "source": [
    "## SVM report"
   ],
   "metadata": {
    "collapsed": false
   }
  },
  {
   "cell_type": "code",
   "execution_count": 28,
   "outputs": [
    {
     "name": "stdout",
     "output_type": "stream",
     "text": [
      "              precision    recall  f1-score   support\n",
      "\n",
      "           0       1.00      1.00      1.00      3124\n",
      "           1       1.00      0.97      0.99       155\n",
      "\n",
      "    accuracy                           1.00      3279\n",
      "   macro avg       1.00      0.99      0.99      3279\n",
      "weighted avg       1.00      1.00      1.00      3279\n",
      "\n"
     ]
    }
   ],
   "source": [
    "svm = SVC(C=100, kernel='rbf', probability=True, random_state=42)\n",
    "svm.fit(X_train, y_train)\n",
    "y_pred = svm.predict(X_test)\n",
    "report = classification_report(y_test, y_pred)\n",
    "print(report)"
   ],
   "metadata": {
    "collapsed": false,
    "pycharm": {
     "name": "#%%\n"
    }
   }
  },
  {
   "cell_type": "markdown",
   "source": [
    "## Linear Regression"
   ],
   "metadata": {
    "collapsed": false
   }
  },
  {
   "cell_type": "code",
   "execution_count": 31,
   "outputs": [
    {
     "name": "stderr",
     "output_type": "stream",
     "text": [
      "C:\\Users\\gabri\\anaconda3\\lib\\site-packages\\sklearn\\linear_model\\_sag.py:328: ConvergenceWarning: The max_iter was reached which means the coef_ did not converge\n",
      "  warnings.warn(\"The max_iter was reached which means \"\n"
     ]
    },
    {
     "name": "stdout",
     "output_type": "stream",
     "text": [
      "0.9968457866483373\n",
      "{'C': 1, 'penalty': 'l1', 'solver': 'saga'}\n",
      "\n",
      "\n",
      "\n",
      "\n",
      "0.996587807658277\n",
      "{'C': 1, 'penalty': 'l2', 'solver': 'sag'}\n"
     ]
    }
   ],
   "source": [
    "params = {\n",
    "    'C':[0.001,0.01,0.1,1,10,100],\n",
    "    'solver': ['liblinear', 'saga'],\n",
    "    'penalty': ['l1', 'l2']\n",
    "}\n",
    "\n",
    "X_train, X_test, y_train, y_test = train_test_split(X, y, stratify=y, train_size=0.7, random_state=42)\n",
    "\n",
    "grid = GridSearchCV(\n",
    "    LogisticRegression(max_iter=1500, random_state=42, n_jobs=-1),\n",
    "    params, cv=10, n_jobs=-1, scoring='f1_weighted')\n",
    "grid.fit(X_train, y_train)\n",
    "grid.predict(X_train)\n",
    "print(grid.best_score_)\n",
    "print(grid.best_params_)\n",
    "print('\\n\\n\\n')\n",
    "\n",
    "params = {\n",
    "    'C':[0.001,0.01,0.1,1,10,100],\n",
    "    'solver': ['newton-cg', 'lbfgs', 'sag'],\n",
    "    'penalty': ['l2']\n",
    "}\n",
    "\n",
    "grid = GridSearchCV(\n",
    "    LogisticRegression(max_iter=1500, random_state=42, n_jobs=-1),\n",
    "    params, cv=10, n_jobs=-1, scoring='f1_weighted')\n",
    "grid.fit(X_train, y_train)\n",
    "grid.predict(X_train)\n",
    "print(grid.best_score_)\n",
    "print(grid.best_params_)"
   ],
   "metadata": {
    "collapsed": false,
    "pycharm": {
     "name": "#%%\n"
    }
   }
  },
  {
   "cell_type": "code",
   "execution_count": 32,
   "outputs": [
    {
     "name": "stdout",
     "output_type": "stream",
     "text": [
      "\tf1:\n",
      "\t\tmean = 99.56%;\n",
      "\t\tstd = 0.00;\n",
      "\tROC AUC OneVsRest:\n",
      "\t\tmean = 99.83%;\n",
      "\t\tstd = 0.00;\n",
      "\tROC AUC OneVsOne:\n",
      "\t\tmean = 99.83%;\n",
      "\t\tstd = 0.00;\n",
      "\tbalanced accuracy:\n",
      "\t\tmean = 98.03%;\n",
      "\t\tstd = 0.02;\n",
      "\taccuracy:\n",
      "\t\tmean = 99.55%;\n",
      "\t\tstd = 0.00;\n"
     ]
    }
   ],
   "source": [
    "lr = LogisticRegression(C=1, penalty='l1', solver='saga', max_iter=1500, random_state=42, n_jobs=-1)\n",
    "result = cross_validate(lr, X, y, cv=10, scoring=metrics,\n",
    "                        return_train_score=True, n_jobs=-1)\n",
    "\n",
    "print(\"\\tf1:\")\n",
    "print(\"\\t\\tmean = {mean:.2f}%;\\n\\t\\tstd = {std:.2f};\"\n",
    "    .format(mean = result.get('test_f1_weighted').mean()*100,\n",
    "            std = result.get('test_f1_weighted').std()))\n",
    "\n",
    "print(\"\\tROC AUC OneVsRest:\")\n",
    "print(\"\\t\\tmean = {mean:.2f}%;\\n\\t\\tstd = {std:.2f};\"\n",
    "    .format(mean = result.get('test_roc_auc_ovr_weighted').mean()*100,\n",
    "            std = result.get('test_roc_auc_ovr_weighted').std()))\n",
    "\n",
    "print(\"\\tROC AUC OneVsOne:\")\n",
    "print(\"\\t\\tmean = {mean:.2f}%;\\n\\t\\tstd = {std:.2f};\"\n",
    "    .format(mean = result.get('test_roc_auc_ovo_weighted').mean()*100,\n",
    "            std = result.get('test_roc_auc_ovo_weighted').std()))\n",
    "\n",
    "print(\"\\tbalanced accuracy:\")\n",
    "print(\"\\t\\tmean = {mean:.2f}%;\\n\\t\\tstd = {std:.2f};\"\n",
    "    .format(mean = result.get('test_balanced_accuracy').mean()*100,\n",
    "            std = result.get('test_balanced_accuracy').std()))\n",
    "\n",
    "print(\"\\taccuracy:\")\n",
    "print(\"\\t\\tmean = {mean:.2f}%;\\n\\t\\tstd = {std:.2f};\"\n",
    "      .format(mean = result.get('test_accuracy').mean()*100,\n",
    "              std = result.get('test_accuracy').std()))"
   ],
   "metadata": {
    "collapsed": false,
    "pycharm": {
     "name": "#%%\n"
    }
   }
  },
  {
   "cell_type": "markdown",
   "source": [
    "## LR report"
   ],
   "metadata": {
    "collapsed": false
   }
  },
  {
   "cell_type": "code",
   "execution_count": 34,
   "outputs": [
    {
     "name": "stdout",
     "output_type": "stream",
     "text": [
      "              precision    recall  f1-score   support\n",
      "\n",
      "           0       1.00      1.00      1.00      3124\n",
      "           1       0.98      0.96      0.97       155\n",
      "\n",
      "    accuracy                           1.00      3279\n",
      "   macro avg       0.99      0.98      0.98      3279\n",
      "weighted avg       1.00      1.00      1.00      3279\n",
      "\n"
     ]
    },
    {
     "name": "stderr",
     "output_type": "stream",
     "text": [
      "C:\\Users\\gabri\\anaconda3\\lib\\site-packages\\sklearn\\linear_model\\_sag.py:328: ConvergenceWarning: The max_iter was reached which means the coef_ did not converge\n",
      "  warnings.warn(\"The max_iter was reached which means \"\n"
     ]
    }
   ],
   "source": [
    "lr = LogisticRegression(C=1, penalty='l1', solver='saga', max_iter=2000, random_state=42, n_jobs=-1)\n",
    "lr.fit(X_train, y_train)\n",
    "y_pred = lr.predict(X_test)\n",
    "report = classification_report(y_test, y_pred)\n",
    "print(report)\n"
   ],
   "metadata": {
    "collapsed": false,
    "pycharm": {
     "name": "#%%\n"
    }
   }
  },
  {
   "cell_type": "markdown",
   "source": [
    "## KNN"
   ],
   "metadata": {
    "collapsed": false
   }
  },
  {
   "cell_type": "code",
   "execution_count": 36,
   "outputs": [
    {
     "name": "stdout",
     "output_type": "stream",
     "text": [
      "0.9968315149466089\n",
      "{'n_neighbors': 1}\n"
     ]
    }
   ],
   "source": [
    "params = {\n",
    "    'n_neighbors':[1,3,5,7,9,11,13,15,17,19]\n",
    "}\n",
    "\n",
    "X_train, X_test, y_train, y_test = train_test_split(X, y, stratify=y, train_size=0.7, random_state=42)\n",
    "\n",
    "grid = GridSearchCV(\n",
    "    KNeighborsClassifier(n_jobs=-1),\n",
    "    params, cv=10, n_jobs=-1, scoring='f1_weighted')\n",
    "grid.fit(X_train, y_train)\n",
    "print(grid.best_score_)\n",
    "print(grid.best_params_)"
   ],
   "metadata": {
    "collapsed": false,
    "pycharm": {
     "name": "#%%\n"
    }
   }
  },
  {
   "cell_type": "code",
   "execution_count": 37,
   "outputs": [
    {
     "name": "stdout",
     "output_type": "stream",
     "text": [
      "f1:\n",
      "\tmean = 99.60%;\n",
      "\tstd = 0.00;\n",
      "ROC AUC OneVsRest:\n",
      "\tmean = 97.23%;\n",
      "\tstd = 0.01;\n",
      "ROC AUC OneVsOne:\n",
      "\tmean = 97.23%;\n",
      "\tstd = 0.01;\n",
      "balanced accuracy:\n",
      "\tmean = 97.23%;\n",
      "\tstd = 0.01;\n",
      "accuracy:\n",
      "\tmean = 99.61%;\n",
      "\tstd = 0.00;\n"
     ]
    }
   ],
   "source": [
    "knnClass = KNeighborsClassifier(n_neighbors=1, n_jobs=-1)\n",
    "result = cross_validate(knnClass, X, y, cv=10, scoring=metrics,\n",
    "                        return_train_score=True, n_jobs=-1)\n",
    "\n",
    "print(\"f1:\")\n",
    "print(\"\\tmean = {mean:.2f}%;\\n\\tstd = {std:.2f};\"\n",
    "    .format(mean = result.get('test_f1_weighted').mean()*100,\n",
    "            std = result.get('test_f1_weighted').std()))\n",
    "\n",
    "print(\"ROC AUC OneVsRest:\")\n",
    "print(\"\\tmean = {mean:.2f}%;\\n\\tstd = {std:.2f};\"\n",
    "    .format(mean = result.get('test_roc_auc_ovr_weighted').mean()*100,\n",
    "            std = result.get('test_roc_auc_ovr_weighted').std()))\n",
    "\n",
    "print(\"ROC AUC OneVsOne:\")\n",
    "print(\"\\tmean = {mean:.2f}%;\\n\\tstd = {std:.2f};\"\n",
    "    .format(mean = result.get('test_roc_auc_ovo_weighted').mean()*100,\n",
    "            std = result.get('test_roc_auc_ovo_weighted').std()))\n",
    "\n",
    "print(\"balanced accuracy:\")\n",
    "print(\"\\tmean = {mean:.2f}%;\\n\\tstd = {std:.2f};\"\n",
    "    .format(mean = result.get('test_balanced_accuracy').mean()*100,\n",
    "            std = result.get('test_balanced_accuracy').std()))\n",
    "\n",
    "print(\"accuracy:\")\n",
    "print(\"\\tmean = {mean:.2f}%;\\n\\tstd = {std:.2f};\"\n",
    "      .format(mean = result.get('test_accuracy').mean()*100,\n",
    "              std = result.get('test_accuracy').std()))"
   ],
   "metadata": {
    "collapsed": false,
    "pycharm": {
     "name": "#%%\n"
    }
   }
  },
  {
   "cell_type": "markdown",
   "source": [
    "## KNN report"
   ],
   "metadata": {
    "collapsed": false
   }
  },
  {
   "cell_type": "code",
   "execution_count": 38,
   "outputs": [
    {
     "name": "stdout",
     "output_type": "stream",
     "text": [
      "              precision    recall  f1-score   support\n",
      "\n",
      "           0       1.00      1.00      1.00      3124\n",
      "           1       0.99      0.95      0.97       155\n",
      "\n",
      "    accuracy                           1.00      3279\n",
      "   macro avg       0.99      0.98      0.98      3279\n",
      "weighted avg       1.00      1.00      1.00      3279\n",
      "\n"
     ]
    }
   ],
   "source": [
    "knn = KNeighborsClassifier(n_neighbors=1, n_jobs=-1)\n",
    "knn.fit(X_train, y_train)\n",
    "y_pred = knn.predict(X_test)\n",
    "report = classification_report(y_test, y_pred)\n",
    "print(report)"
   ],
   "metadata": {
    "collapsed": false,
    "pycharm": {
     "name": "#%%\n"
    }
   }
  },
  {
   "cell_type": "markdown",
   "source": [
    "## Decision Tree"
   ],
   "metadata": {
    "collapsed": false
   }
  },
  {
   "cell_type": "code",
   "execution_count": 39,
   "outputs": [
    {
     "name": "stdout",
     "output_type": "stream",
     "text": [
      "0.9937552325778014\n",
      "{'max_depth': 4}\n"
     ]
    }
   ],
   "source": [
    "# Search for the best tree depth\n",
    "params = {\n",
    "    'max_depth':[1,2,3,4,5,6,7,8,9,10,None]\n",
    "}\n",
    "\n",
    "X_train, X_test, y_train, y_test = train_test_split(X, y, stratify=y, train_size=0.7, random_state=42)\n",
    "\n",
    "grid = GridSearchCV(\n",
    "    DecisionTreeClassifier(random_state=42),\n",
    "    params, cv=10, n_jobs=-1, scoring='f1_weighted')\n",
    "grid.fit(X_train, y_train)\n",
    "print(grid.best_score_)\n",
    "print(grid.best_params_)"
   ],
   "metadata": {
    "collapsed": false,
    "pycharm": {
     "name": "#%%\n"
    }
   }
  },
  {
   "cell_type": "code",
   "execution_count": 40,
   "outputs": [
    {
     "name": "stdout",
     "output_type": "stream",
     "text": [
      "f1:\n",
      "\tmean = 99.26%;\n",
      "\tstd = 0.01;\n",
      "ROC AUC OneVsRest:\n",
      "\tmean = 93.96%;\n",
      "\tstd = 0.04;\n",
      "ROC AUC OneVsOne:\n",
      "\tmean = 93.96%;\n",
      "\tstd = 0.04;\n",
      "balanced accuracy:\n",
      "\tmean = 94.22%;\n",
      "\tstd = 0.05;\n",
      "accuracy:\n",
      "\tmean = 99.29%;\n",
      "\tstd = 0.00;\n"
     ]
    }
   ],
   "source": [
    "curr = DecisionTreeClassifier(random_state=42, max_depth=4)\n",
    "result = cross_validate(curr, X, y, cv=10, scoring=metrics,\n",
    "                        return_train_score=True, n_jobs=-1)\n",
    "\n",
    "print(\"f1:\")\n",
    "print(\"\\tmean = {mean:.2f}%;\\n\\tstd = {std:.2f};\"\n",
    "    .format(mean = result.get('test_f1_weighted').mean()*100,\n",
    "            std = result.get('test_f1_weighted').std()))\n",
    "\n",
    "print(\"ROC AUC OneVsRest:\")\n",
    "print(\"\\tmean = {mean:.2f}%;\\n\\tstd = {std:.2f};\"\n",
    "    .format(mean = result.get('test_roc_auc_ovr_weighted').mean()*100,\n",
    "            std = result.get('test_roc_auc_ovr_weighted').std()))\n",
    "\n",
    "print(\"ROC AUC OneVsOne:\")\n",
    "print(\"\\tmean = {mean:.2f}%;\\n\\tstd = {std:.2f};\"\n",
    "    .format(mean = result.get('test_roc_auc_ovo_weighted').mean()*100,\n",
    "            std = result.get('test_roc_auc_ovo_weighted').std()))\n",
    "\n",
    "print(\"balanced accuracy:\")\n",
    "print(\"\\tmean = {mean:.2f}%;\\n\\tstd = {std:.2f};\"\n",
    "    .format(mean = result.get('test_balanced_accuracy').mean()*100,\n",
    "            std = result.get('test_balanced_accuracy').std()))\n",
    "\n",
    "print(\"accuracy:\")\n",
    "print(\"\\tmean = {mean:.2f}%;\\n\\tstd = {std:.2f};\"\n",
    "      .format(mean = result.get('test_accuracy').mean()*100,\n",
    "              std = result.get('test_accuracy').std()))"
   ],
   "metadata": {
    "collapsed": false,
    "pycharm": {
     "name": "#%%\n"
    }
   }
  },
  {
   "cell_type": "markdown",
   "source": [
    "## Decision Tree Report"
   ],
   "metadata": {
    "collapsed": false
   }
  },
  {
   "cell_type": "code",
   "execution_count": 41,
   "outputs": [
    {
     "name": "stdout",
     "output_type": "stream",
     "text": [
      "              precision    recall  f1-score   support\n",
      "\n",
      "           0       1.00      1.00      1.00      3124\n",
      "           1       0.97      0.94      0.95       155\n",
      "\n",
      "    accuracy                           1.00      3279\n",
      "   macro avg       0.98      0.97      0.97      3279\n",
      "weighted avg       1.00      1.00      1.00      3279\n",
      "\n"
     ]
    }
   ],
   "source": [
    "dtree = DecisionTreeClassifier(random_state=42, max_depth=4)\n",
    "dtree.fit(X_train, y_train)\n",
    "y_pred = dtree.predict(X_test)\n",
    "report = classification_report(y_test, y_pred)\n",
    "print(report)"
   ],
   "metadata": {
    "collapsed": false,
    "pycharm": {
     "name": "#%%\n"
    }
   }
  },
  {
   "cell_type": "markdown",
   "source": [
    "## Random Forest"
   ],
   "metadata": {
    "collapsed": false
   }
  },
  {
   "cell_type": "code",
   "execution_count": 42,
   "outputs": [
    {
     "name": "stdout",
     "output_type": "stream",
     "text": [
      "0.9958906714445114\n",
      "{'max_depth': 16}\n"
     ]
    }
   ],
   "source": [
    "# Search for the best tree depth\n",
    "params = {\n",
    "    'max_depth':[8,9,10,11,12,13,14,15,16,17,None]\n",
    "}\n",
    "\n",
    "X_train, X_test, y_train, y_test = train_test_split(X, y, stratify=y, train_size=0.7, random_state=42)\n",
    "\n",
    "grid = GridSearchCV(\n",
    "    RandomForestClassifier(random_state=42, n_jobs=-1),\n",
    "    params, cv=10, n_jobs=-1, scoring='f1_weighted')\n",
    "grid.fit(X_train, y_train)\n",
    "print(grid.best_score_)\n",
    "print(grid.best_params_)"
   ],
   "metadata": {
    "collapsed": false,
    "pycharm": {
     "name": "#%%\n"
    }
   }
  },
  {
   "cell_type": "code",
   "execution_count": 43,
   "outputs": [
    {
     "name": "stdout",
     "output_type": "stream",
     "text": [
      "f1:\n",
      "\tmean = 99.53%;\n",
      "\tstd = 0.00;\n",
      "ROC AUC OneVsRest:\n",
      "\tmean = 99.89%;\n",
      "\tstd = 0.00;\n",
      "ROC AUC OneVsOne:\n",
      "\tmean = 99.89%;\n",
      "\tstd = 0.00;\n",
      "balanced accuracy:\n",
      "\tmean = 96.91%;\n",
      "\tstd = 0.02;\n",
      "accuracy:\n",
      "\tmean = 99.53%;\n",
      "\tstd = 0.00;\n"
     ]
    }
   ],
   "source": [
    "curr = RandomForestClassifier(random_state=42, max_depth=16)\n",
    "result = cross_validate(curr, X, y, cv=10, scoring=metrics,\n",
    "                        return_train_score=True, n_jobs=-1)\n",
    "\n",
    "print(\"f1:\")\n",
    "print(\"\\tmean = {mean:.2f}%;\\n\\tstd = {std:.2f};\"\n",
    "    .format(mean = result.get('test_f1_weighted').mean()*100,\n",
    "            std = result.get('test_f1_weighted').std()))\n",
    "\n",
    "print(\"ROC AUC OneVsRest:\")\n",
    "print(\"\\tmean = {mean:.2f}%;\\n\\tstd = {std:.2f};\"\n",
    "    .format(mean = result.get('test_roc_auc_ovr_weighted').mean()*100,\n",
    "            std = result.get('test_roc_auc_ovr_weighted').std()))\n",
    "\n",
    "print(\"ROC AUC OneVsOne:\")\n",
    "print(\"\\tmean = {mean:.2f}%;\\n\\tstd = {std:.2f};\"\n",
    "    .format(mean = result.get('test_roc_auc_ovo_weighted').mean()*100,\n",
    "            std = result.get('test_roc_auc_ovo_weighted').std()))\n",
    "\n",
    "print(\"balanced accuracy:\")\n",
    "print(\"\\tmean = {mean:.2f}%;\\n\\tstd = {std:.2f};\"\n",
    "    .format(mean = result.get('test_balanced_accuracy').mean()*100,\n",
    "            std = result.get('test_balanced_accuracy').std()))\n",
    "\n",
    "print(\"accuracy:\")\n",
    "print(\"\\tmean = {mean:.2f}%;\\n\\tstd = {std:.2f};\"\n",
    "      .format(mean = result.get('test_accuracy').mean()*100,\n",
    "              std = result.get('test_accuracy').std()))"
   ],
   "metadata": {
    "collapsed": false,
    "pycharm": {
     "name": "#%%\n"
    }
   }
  },
  {
   "cell_type": "markdown",
   "source": [
    "## Random Forest Report"
   ],
   "metadata": {
    "collapsed": false
   }
  },
  {
   "cell_type": "code",
   "execution_count": 44,
   "outputs": [
    {
     "name": "stdout",
     "output_type": "stream",
     "text": [
      "              precision    recall  f1-score   support\n",
      "\n",
      "           0       1.00      1.00      1.00      3124\n",
      "           1       0.99      0.94      0.96       155\n",
      "\n",
      "    accuracy                           1.00      3279\n",
      "   macro avg       0.99      0.97      0.98      3279\n",
      "weighted avg       1.00      1.00      1.00      3279\n",
      "\n"
     ]
    }
   ],
   "source": [
    "dtree = RandomForestClassifier(random_state=42, n_jobs=-1, max_depth=16)\n",
    "dtree.fit(X_train, y_train)\n",
    "y_pred = dtree.predict(X_test)\n",
    "report = classification_report(y_test, y_pred)\n",
    "print(report)"
   ],
   "metadata": {
    "collapsed": false,
    "pycharm": {
     "name": "#%%\n"
    }
   }
  },
  {
   "cell_type": "markdown",
   "source": [
    "## MLP"
   ],
   "metadata": {
    "collapsed": false
   }
  },
  {
   "cell_type": "code",
   "execution_count": 45,
   "outputs": [
    {
     "name": "stdout",
     "output_type": "stream",
     "text": [
      "0.9968489774260789\n",
      "{'hidden_layer_sizes': 150}\n"
     ]
    }
   ],
   "source": [
    "params = {\n",
    "    'hidden_layer_sizes':[50,100,150,200,250,300,350,400,450,500]\n",
    "}\n",
    "\n",
    "X_train, X_test, y_train, y_test = train_test_split(X, y, stratify=y, train_size=0.7, random_state=42)\n",
    "\n",
    "clf = MLPClassifier(activation = 'logistic',\n",
    "                    solver='adam',\n",
    "                    alpha=1e-5,\n",
    "                    learning_rate = 'invscaling',\n",
    "                    max_iter = 500,\n",
    "                    random_state=42)\n",
    "grid = GridSearchCV(clf, params, cv=10, n_jobs=-1, scoring='f1_weighted')\n",
    "grid.fit(X_train, y_train)\n",
    "print(grid.best_score_)\n",
    "print(grid.best_params_)"
   ],
   "metadata": {
    "collapsed": false,
    "pycharm": {
     "name": "#%%\n"
    }
   }
  },
  {
   "cell_type": "code",
   "execution_count": 46,
   "outputs": [
    {
     "name": "stdout",
     "output_type": "stream",
     "text": [
      "f1:\n",
      "\tmean = 99.55%;\n",
      "\tstd = 0.00;\n",
      "ROC AUC OneVsRest:\n",
      "\tmean = 99.76%;\n",
      "\tstd = 0.00;\n",
      "ROC AUC OneVsOne:\n",
      "\tmean = 99.76%;\n",
      "\tstd = 0.00;\n",
      "balanced accuracy:\n",
      "\tmean = 97.39%;\n",
      "\tstd = 0.02;\n",
      "accuracy:\n",
      "\tmean = 99.55%;\n",
      "\tstd = 0.00;\n"
     ]
    }
   ],
   "source": [
    "mpl = MLPClassifier(activation = 'logistic',\n",
    "                solver='adam',\n",
    "                alpha=1e-5,\n",
    "                learning_rate = 'invscaling',\n",
    "                max_iter = 500,\n",
    "                hidden_layer_sizes=(150,),\n",
    "                random_state=42)\n",
    "\n",
    "result = cross_validate(mpl, X, y, cv=10, scoring=metrics,\n",
    "                        return_train_score=True, n_jobs=-1)\n",
    "\n",
    "print(\"f1:\")\n",
    "print(\"\\tmean = {mean:.2f}%;\\n\\tstd = {std:.2f};\"\n",
    "    .format(mean = result.get('test_f1_weighted').mean()*100,\n",
    "            std = result.get('test_f1_weighted').std()))\n",
    "\n",
    "print(\"ROC AUC OneVsRest:\")\n",
    "print(\"\\tmean = {mean:.2f}%;\\n\\tstd = {std:.2f};\"\n",
    "    .format(mean = result.get('test_roc_auc_ovr_weighted').mean()*100,\n",
    "            std = result.get('test_roc_auc_ovr_weighted').std()))\n",
    "\n",
    "print(\"ROC AUC OneVsOne:\")\n",
    "print(\"\\tmean = {mean:.2f}%;\\n\\tstd = {std:.2f};\"\n",
    "    .format(mean = result.get('test_roc_auc_ovo_weighted').mean()*100,\n",
    "            std = result.get('test_roc_auc_ovo_weighted').std()))\n",
    "\n",
    "print(\"balanced accuracy:\")\n",
    "print(\"\\tmean = {mean:.2f}%;\\n\\tstd = {std:.2f};\"\n",
    "    .format(mean = result.get('test_balanced_accuracy').mean()*100,\n",
    "            std = result.get('test_balanced_accuracy').std()))\n",
    "\n",
    "print(\"accuracy:\")\n",
    "print(\"\\tmean = {mean:.2f}%;\\n\\tstd = {std:.2f};\"\n",
    "      .format(mean = result.get('test_accuracy').mean()*100,\n",
    "              std = result.get('test_accuracy').std()))"
   ],
   "metadata": {
    "collapsed": false,
    "pycharm": {
     "name": "#%%\n"
    }
   }
  },
  {
   "cell_type": "markdown",
   "source": [
    "## MLP Report"
   ],
   "metadata": {
    "collapsed": false
   }
  },
  {
   "cell_type": "code",
   "execution_count": 47,
   "outputs": [
    {
     "name": "stdout",
     "output_type": "stream",
     "text": [
      "              precision    recall  f1-score   support\n",
      "\n",
      "           0       1.00      1.00      1.00      3124\n",
      "           1       0.99      0.96      0.98       155\n",
      "\n",
      "    accuracy                           1.00      3279\n",
      "   macro avg       1.00      0.98      0.99      3279\n",
      "weighted avg       1.00      1.00      1.00      3279\n",
      "\n"
     ]
    }
   ],
   "source": [
    "mlp = MLPClassifier(activation = 'logistic',\n",
    "                    solver='adam',\n",
    "                    alpha=1e-5,\n",
    "                    learning_rate = 'invscaling',\n",
    "                    max_iter = 500,\n",
    "                    hidden_layer_sizes=(150,),\n",
    "                    random_state=42)\n",
    "mlp.fit(X_train, y_train)\n",
    "y_pred = mlp.predict(X_test)\n",
    "report = classification_report(y_test, y_pred)\n",
    "print(report)"
   ],
   "metadata": {
    "collapsed": false,
    "pycharm": {
     "name": "#%%\n"
    }
   }
  },
  {
   "cell_type": "markdown",
   "source": [
    "## Naive Bayes"
   ],
   "metadata": {
    "collapsed": false,
    "pycharm": {
     "name": "#%% md\n"
    }
   }
  },
  {
   "cell_type": "code",
   "execution_count": 48,
   "outputs": [
    {
     "name": "stdout",
     "output_type": "stream",
     "text": [
      "f1:\n",
      "\tmean = 97.30%;\n",
      "\tstd = 0.01;\n",
      "ROC AUC OneVsRest:\n",
      "\tmean = 98.16%;\n",
      "\tstd = 0.01;\n",
      "ROC AUC OneVsOne:\n",
      "\tmean = 98.16%;\n",
      "\tstd = 0.01;\n",
      "balanced accuracy:\n",
      "\tmean = 97.64%;\n",
      "\tstd = 0.01;\n",
      "accuracy:\n",
      "\tmean = 96.91%;\n",
      "\tstd = 0.02;\n"
     ]
    }
   ],
   "source": [
    "nb = GaussianNB()\n",
    "\n",
    "result = cross_validate(nb, X, y, cv=10, scoring=metrics,\n",
    "                        return_train_score=True, n_jobs=-1)\n",
    "\n",
    "print(\"f1:\")\n",
    "print(\"\\tmean = {mean:.2f}%;\\n\\tstd = {std:.2f};\"\n",
    "    .format(mean = result.get('test_f1_weighted').mean()*100,\n",
    "            std = result.get('test_f1_weighted').std()))\n",
    "\n",
    "print(\"ROC AUC OneVsRest:\")\n",
    "print(\"\\tmean = {mean:.2f}%;\\n\\tstd = {std:.2f};\"\n",
    "    .format(mean = result.get('test_roc_auc_ovr_weighted').mean()*100,\n",
    "            std = result.get('test_roc_auc_ovr_weighted').std()))\n",
    "\n",
    "print(\"ROC AUC OneVsOne:\")\n",
    "print(\"\\tmean = {mean:.2f}%;\\n\\tstd = {std:.2f};\"\n",
    "    .format(mean = result.get('test_roc_auc_ovo_weighted').mean()*100,\n",
    "            std = result.get('test_roc_auc_ovo_weighted').std()))\n",
    "\n",
    "print(\"balanced accuracy:\")\n",
    "print(\"\\tmean = {mean:.2f}%;\\n\\tstd = {std:.2f};\"\n",
    "    .format(mean = result.get('test_balanced_accuracy').mean()*100,\n",
    "            std = result.get('test_balanced_accuracy').std()))\n",
    "\n",
    "print(\"accuracy:\")\n",
    "print(\"\\tmean = {mean:.2f}%;\\n\\tstd = {std:.2f};\"\n",
    "      .format(mean = result.get('test_accuracy').mean()*100,\n",
    "              std = result.get('test_accuracy').std()))"
   ],
   "metadata": {
    "collapsed": false,
    "pycharm": {
     "name": "#%%\n"
    }
   }
  },
  {
   "cell_type": "markdown",
   "source": [
    "## Naive Bayes Report"
   ],
   "metadata": {
    "collapsed": false
   }
  },
  {
   "cell_type": "code",
   "execution_count": 49,
   "outputs": [
    {
     "name": "stdout",
     "output_type": "stream",
     "text": [
      "              precision    recall  f1-score   support\n",
      "\n",
      "           0       1.00      0.98      0.99      3124\n",
      "           1       0.67      0.99      0.80       155\n",
      "\n",
      "    accuracy                           0.98      3279\n",
      "   macro avg       0.84      0.98      0.89      3279\n",
      "weighted avg       0.98      0.98      0.98      3279\n",
      "\n"
     ]
    }
   ],
   "source": [
    "nb = GaussianNB()\n",
    "\n",
    "nb.fit(X_train, y_train)\n",
    "y_pred = nb.predict(X_test)\n",
    "report = classification_report(y_test, y_pred)\n",
    "print(report)\n"
   ],
   "metadata": {
    "collapsed": false,
    "pycharm": {
     "name": "#%%\n"
    }
   }
  }
 ],
 "metadata": {
  "kernelspec": {
   "display_name": "Python 3",
   "language": "python",
   "name": "python3"
  },
  "language_info": {
   "codemirror_mode": {
    "name": "ipython",
    "version": 2
   },
   "file_extension": ".py",
   "mimetype": "text/x-python",
   "name": "python",
   "nbconvert_exporter": "python",
   "pygments_lexer": "ipython2",
   "version": "2.7.6"
  }
 },
 "nbformat": 4,
 "nbformat_minor": 0
}