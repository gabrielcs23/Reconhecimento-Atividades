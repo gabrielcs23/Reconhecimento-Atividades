{
 "cells": [
  {
   "cell_type": "code",
   "execution_count": 1,
   "metadata": {
    "collapsed": true
   },
   "outputs": [],
   "source": [
    "import pandas as pd\n",
    "import numpy as np\n",
    "import matplotlib.pyplot as plt\n",
    "import seaborn as sns\n",
    "\n",
    "from sklearn.metrics import classification_report, confusion_matrix\n",
    "from sklearn.model_selection import cross_validate, train_test_split\n",
    "from sklearn.neighbors import KNeighborsClassifier\n",
    "from sklearn.tree import DecisionTreeClassifier\n",
    "from sklearn.neural_network import MLPClassifier\n"
   ]
  },
  {
   "cell_type": "code",
   "execution_count": 2,
   "outputs": [],
   "source": [
    "df = pd.read_csv('dataset.csv')\n",
    "# Filter\n",
    "df = df.loc[~df['Activity'].isin(['LIE_TO_STAND', 'STAND_TO_LIE'])]\n",
    "\n",
    "X = df.drop(columns=['Activity'])\n",
    "y = df['Activity']\n",
    "\n",
    "# balanced_accuracy = (recall + specificity) / 2\n",
    "metrics = ['f1_weighted', 'balanced_accuracy', 'accuracy']"
   ],
   "metadata": {
    "collapsed": false,
    "pycharm": {
     "name": "#%%\n"
    }
   }
  },
  {
   "cell_type": "markdown",
   "source": [
    "## KNN"
   ],
   "metadata": {
    "collapsed": false
   }
  },
  {
   "cell_type": "code",
   "execution_count": 3,
   "outputs": [
    {
     "name": "stdout",
     "output_type": "stream",
     "text": [
      "k = 1:\n",
      "\tf1:\n",
      "\t\tmean = 89.24%;\n",
      "\t\tstd = 0.02;\n",
      "\tbalanced accuracy:\n",
      "\t\tmean = 89.32%;\n",
      "\t\tstd = 0.02;\n",
      "\taccuracy:\n",
      "\t\tmean = 89.28%;\n",
      "\t\tstd = 0.02;\n",
      "k = 3:\n",
      "\tf1:\n",
      "\t\tmean = 90.80%;\n",
      "\t\tstd = 0.01;\n",
      "\tbalanced accuracy:\n",
      "\t\tmean = 90.69%;\n",
      "\t\tstd = 0.01;\n",
      "\taccuracy:\n",
      "\t\tmean = 90.85%;\n",
      "\t\tstd = 0.01;\n",
      "k = 5:\n",
      "\tf1:\n",
      "\t\tmean = 91.13%;\n",
      "\t\tstd = 0.02;\n",
      "\tbalanced accuracy:\n",
      "\t\tmean = 90.83%;\n",
      "\t\tstd = 0.02;\n",
      "\taccuracy:\n",
      "\t\tmean = 91.16%;\n",
      "\t\tstd = 0.02;\n",
      "k = 7:\n",
      "\tf1:\n",
      "\t\tmean = 91.21%;\n",
      "\t\tstd = 0.02;\n",
      "\tbalanced accuracy:\n",
      "\t\tmean = 91.55%;\n",
      "\t\tstd = 0.01;\n",
      "\taccuracy:\n",
      "\t\tmean = 91.25%;\n",
      "\t\tstd = 0.02;\n",
      "k = 9:\n",
      "\tf1:\n",
      "\t\tmean = 91.47%;\n",
      "\t\tstd = 0.02;\n",
      "\tbalanced accuracy:\n",
      "\t\tmean = 91.36%;\n",
      "\t\tstd = 0.02;\n",
      "\taccuracy:\n",
      "\t\tmean = 91.50%;\n",
      "\t\tstd = 0.02;\n",
      "k = 11:\n",
      "\tf1:\n",
      "\t\tmean = 91.17%;\n",
      "\t\tstd = 0.02;\n",
      "\tbalanced accuracy:\n",
      "\t\tmean = 90.44%;\n",
      "\t\tstd = 0.03;\n",
      "\taccuracy:\n",
      "\t\tmean = 91.21%;\n",
      "\t\tstd = 0.02;\n",
      "k = 13:\n",
      "\tf1:\n",
      "\t\tmean = 91.19%;\n",
      "\t\tstd = 0.02;\n",
      "\tbalanced accuracy:\n",
      "\t\tmean = 89.50%;\n",
      "\t\tstd = 0.03;\n",
      "\taccuracy:\n",
      "\t\tmean = 91.24%;\n",
      "\t\tstd = 0.02;\n",
      "k = 15:\n",
      "\tf1:\n",
      "\t\tmean = 91.11%;\n",
      "\t\tstd = 0.02;\n",
      "\tbalanced accuracy:\n",
      "\t\tmean = 87.76%;\n",
      "\t\tstd = 0.03;\n",
      "\taccuracy:\n",
      "\t\tmean = 91.17%;\n",
      "\t\tstd = 0.02;\n",
      "k = 17:\n",
      "\tf1:\n",
      "\t\tmean = 91.15%;\n",
      "\t\tstd = 0.02;\n",
      "\tbalanced accuracy:\n",
      "\t\tmean = 88.25%;\n",
      "\t\tstd = 0.02;\n",
      "\taccuracy:\n",
      "\t\tmean = 91.21%;\n",
      "\t\tstd = 0.02;\n",
      "k = 19:\n",
      "\tf1:\n",
      "\t\tmean = 91.26%;\n",
      "\t\tstd = 0.02;\n",
      "\tbalanced accuracy:\n",
      "\t\tmean = 87.92%;\n",
      "\t\tstd = 0.03;\n",
      "\taccuracy:\n",
      "\t\tmean = 91.33%;\n",
      "\t\tstd = 0.02;\n"
     ]
    }
   ],
   "source": [
    "knn_results = []\n",
    "\n",
    "# KNN classifiers with odd K in range of (1,19)\n",
    "# search for best K\n",
    "for i in range(10):\n",
    "    k = i*2+1\n",
    "    knnClass = KNeighborsClassifier(n_neighbors=k, n_jobs=-1)\n",
    "    result = cross_validate(knnClass, X, y, cv=10, scoring=metrics,\n",
    "                            return_train_score=True, n_jobs=-1)\n",
    "    knn_results.append(result)\n",
    "    print(\"k = \" + str(k) + \":\")\n",
    "\n",
    "    print(\"\\tf1:\")\n",
    "    print(\"\\t\\tmean = {mean:.2f}%;\\n\\t\\tstd = {std:.2f};\"\n",
    "        .format(mean = result.get('test_f1_weighted').mean()*100,\n",
    "                std = result.get('test_f1_weighted').std()))\n",
    "\n",
    "    print(\"\\tbalanced accuracy:\")\n",
    "    print(\"\\t\\tmean = {mean:.2f}%;\\n\\t\\tstd = {std:.2f};\"\n",
    "        .format(mean = result.get('test_balanced_accuracy').mean()*100,\n",
    "                std = result.get('test_balanced_accuracy').std()))\n",
    "\n",
    "    print(\"\\taccuracy:\")\n",
    "    print(\"\\t\\tmean = {mean:.2f}%;\\n\\t\\tstd = {std:.2f};\"\n",
    "          .format(mean = result.get('test_accuracy').mean()*100,\n",
    "                  std = result.get('test_accuracy').std()))\n",
    "\n",
    "# spoiler it's: 9"
   ],
   "metadata": {
    "collapsed": false,
    "pycharm": {
     "name": "#%%\n"
    }
   }
  },
  {
   "cell_type": "markdown",
   "source": [
    "## KNN report"
   ],
   "metadata": {
    "collapsed": false
   }
  },
  {
   "cell_type": "code",
   "execution_count": 9,
   "outputs": [
    {
     "name": "stdout",
     "output_type": "stream",
     "text": [
      "                    precision    recall  f1-score   support\n",
      "\n",
      "            LAYING       0.99      1.00      1.00       587\n",
      "        LIE_TO_SIT       0.93      0.96      0.94        26\n",
      "           SITTING       0.88      0.86      0.87       540\n",
      "        SIT_TO_LIE       0.94      0.91      0.92        32\n",
      "      SIT_TO_STAND       0.88      0.70      0.78        10\n",
      "          STANDING       0.89      0.90      0.89       594\n",
      "      STAND_TO_SIT       0.73      0.76      0.74        21\n",
      "           WALKING       0.99      1.00      1.00       517\n",
      "WALKING_DOWNSTAIRS       1.00      0.99      1.00       422\n",
      "  WALKING_UPSTAIRS       0.99      1.00      0.99       463\n",
      "\n",
      "          accuracy                           0.95      3212\n",
      "         macro avg       0.92      0.91      0.91      3212\n",
      "      weighted avg       0.95      0.95      0.95      3212\n",
      "\n"
     ]
    }
   ],
   "source": [
    "X_train, X_test, y_train, y_test = train_test_split(X, y, stratify=y, train_size=0.7, random_state=42)\n",
    "knn = KNeighborsClassifier(n_neighbors=9, n_jobs=-1)\n",
    "knn.fit(X_train, y_train)\n",
    "y_pred = knn.predict(X_test)\n",
    "report = classification_report(y_test, y_pred)\n",
    "print(report)"
   ],
   "metadata": {
    "collapsed": false,
    "pycharm": {
     "name": "#%%\n"
    }
   }
  },
  {
   "cell_type": "markdown",
   "source": [
    "## Decision Tree"
   ],
   "metadata": {
    "collapsed": false
   }
  },
  {
   "cell_type": "code",
   "execution_count": 5,
   "outputs": [
    {
     "name": "stdout",
     "output_type": "stream",
     "text": [
      "Depth = 1:\n",
      "\tf1:\n",
      "\t\tmean = 24.78%;\n",
      "\t\tstd = 0.00;\n",
      "\tbalanced accuracy:\n",
      "\t\tmean = 19.94%;\n",
      "\t\tstd = 0.00;\n",
      "\taccuracy:\n",
      "\t\tmean = 36.67%;\n",
      "\t\tstd = 0.00;\n",
      "Depth = 2:\n",
      "\tf1:\n",
      "\t\tmean = 39.61%;\n",
      "\t\tstd = 0.00;\n",
      "\tbalanced accuracy:\n",
      "\t\tmean = 34.47%;\n",
      "\t\tstd = 0.02;\n",
      "\taccuracy:\n",
      "\t\tmean = 53.07%;\n",
      "\t\tstd = 0.00;\n",
      "Depth = 3:\n",
      "\tf1:\n",
      "\t\tmean = 69.47%;\n",
      "\t\tstd = 0.04;\n",
      "\tbalanced accuracy:\n",
      "\t\tmean = 49.43%;\n",
      "\t\tstd = 0.04;\n",
      "\taccuracy:\n",
      "\t\tmean = 74.96%;\n",
      "\t\tstd = 0.04;\n",
      "Depth = 4:\n",
      "\tf1:\n",
      "\t\tmean = 82.24%;\n",
      "\t\tstd = 0.03;\n",
      "\tbalanced accuracy:\n",
      "\t\tmean = 55.34%;\n",
      "\t\tstd = 0.03;\n",
      "\taccuracy:\n",
      "\t\tmean = 83.18%;\n",
      "\t\tstd = 0.03;\n",
      "Depth = 5:\n",
      "\tf1:\n",
      "\t\tmean = 82.96%;\n",
      "\t\tstd = 0.04;\n",
      "\tbalanced accuracy:\n",
      "\t\tmean = 59.56%;\n",
      "\t\tstd = 0.06;\n",
      "\taccuracy:\n",
      "\t\tmean = 83.64%;\n",
      "\t\tstd = 0.04;\n",
      "Depth = 6:\n",
      "\tf1:\n",
      "\t\tmean = 84.54%;\n",
      "\t\tstd = 0.04;\n",
      "\tbalanced accuracy:\n",
      "\t\tmean = 67.23%;\n",
      "\t\tstd = 0.04;\n",
      "\taccuracy:\n",
      "\t\tmean = 84.84%;\n",
      "\t\tstd = 0.04;\n",
      "Depth = 7:\n",
      "\tf1:\n",
      "\t\tmean = 86.68%;\n",
      "\t\tstd = 0.03;\n",
      "\tbalanced accuracy:\n",
      "\t\tmean = 74.74%;\n",
      "\t\tstd = 0.04;\n",
      "\taccuracy:\n",
      "\t\tmean = 86.79%;\n",
      "\t\tstd = 0.03;\n",
      "Depth = 8:\n",
      "\tf1:\n",
      "\t\tmean = 87.19%;\n",
      "\t\tstd = 0.03;\n",
      "\tbalanced accuracy:\n",
      "\t\tmean = 79.26%;\n",
      "\t\tstd = 0.05;\n",
      "\taccuracy:\n",
      "\t\tmean = 87.23%;\n",
      "\t\tstd = 0.03;\n",
      "Depth = 9:\n",
      "\tf1:\n",
      "\t\tmean = 87.26%;\n",
      "\t\tstd = 0.04;\n",
      "\tbalanced accuracy:\n",
      "\t\tmean = 82.60%;\n",
      "\t\tstd = 0.05;\n",
      "\taccuracy:\n",
      "\t\tmean = 87.27%;\n",
      "\t\tstd = 0.04;\n",
      "Depth = 10:\n",
      "\tf1:\n",
      "\t\tmean = 87.12%;\n",
      "\t\tstd = 0.04;\n",
      "\tbalanced accuracy:\n",
      "\t\tmean = 82.34%;\n",
      "\t\tstd = 0.04;\n",
      "\taccuracy:\n",
      "\t\tmean = 87.16%;\n",
      "\t\tstd = 0.04;\n",
      "Depth = 11:\n",
      "\tf1:\n",
      "\t\tmean = 86.93%;\n",
      "\t\tstd = 0.03;\n",
      "\tbalanced accuracy:\n",
      "\t\tmean = 82.46%;\n",
      "\t\tstd = 0.04;\n",
      "\taccuracy:\n",
      "\t\tmean = 87.00%;\n",
      "\t\tstd = 0.03;\n",
      "Depth = 12:\n",
      "\tf1:\n",
      "\t\tmean = 86.75%;\n",
      "\t\tstd = 0.03;\n",
      "\tbalanced accuracy:\n",
      "\t\tmean = 81.90%;\n",
      "\t\tstd = 0.03;\n",
      "\taccuracy:\n",
      "\t\tmean = 86.78%;\n",
      "\t\tstd = 0.03;\n",
      "Depth = 13:\n",
      "\tf1:\n",
      "\t\tmean = 86.71%;\n",
      "\t\tstd = 0.04;\n",
      "\tbalanced accuracy:\n",
      "\t\tmean = 82.03%;\n",
      "\t\tstd = 0.04;\n",
      "\taccuracy:\n",
      "\t\tmean = 86.80%;\n",
      "\t\tstd = 0.04;\n",
      "Depth = 14:\n",
      "\tf1:\n",
      "\t\tmean = 86.28%;\n",
      "\t\tstd = 0.03;\n",
      "\tbalanced accuracy:\n",
      "\t\tmean = 82.02%;\n",
      "\t\tstd = 0.04;\n",
      "\taccuracy:\n",
      "\t\tmean = 86.32%;\n",
      "\t\tstd = 0.03;\n",
      "Depth = 15:\n",
      "\tf1:\n",
      "\t\tmean = 86.94%;\n",
      "\t\tstd = 0.03;\n",
      "\tbalanced accuracy:\n",
      "\t\tmean = 82.63%;\n",
      "\t\tstd = 0.04;\n",
      "\taccuracy:\n",
      "\t\tmean = 86.99%;\n",
      "\t\tstd = 0.03;\n",
      "Depth = 16:\n",
      "\tf1:\n",
      "\t\tmean = 86.38%;\n",
      "\t\tstd = 0.03;\n",
      "\tbalanced accuracy:\n",
      "\t\tmean = 81.19%;\n",
      "\t\tstd = 0.04;\n",
      "\taccuracy:\n",
      "\t\tmean = 86.43%;\n",
      "\t\tstd = 0.03;\n"
     ]
    }
   ],
   "source": [
    "tree_results = []\n",
    "\n",
    "# Search for the best tree depth\n",
    "for i in range(1, 17):\n",
    "    curr = DecisionTreeClassifier(random_state=42, max_depth=i)\n",
    "    result = cross_validate(curr, X, y, cv=10, scoring=metrics,\n",
    "                            return_train_score=True, n_jobs=-1)\n",
    "    tree_results.append(result)\n",
    "    print(\"Depth = \" + str(i) + \":\")\n",
    "\n",
    "    print(\"\\tf1:\")\n",
    "    print(\"\\t\\tmean = {mean:.2f}%;\\n\\t\\tstd = {std:.2f};\"\n",
    "        .format(mean = result.get('test_f1_weighted').mean()*100,\n",
    "                std = result.get('test_f1_weighted').std()))\n",
    "\n",
    "    print(\"\\tbalanced accuracy:\")\n",
    "    print(\"\\t\\tmean = {mean:.2f}%;\\n\\t\\tstd = {std:.2f};\"\n",
    "        .format(mean = result.get('test_balanced_accuracy').mean()*100,\n",
    "                std = result.get('test_balanced_accuracy').std()))\n",
    "\n",
    "    print(\"\\taccuracy:\")\n",
    "    print(\"\\t\\tmean = {mean:.2f}%;\\n\\t\\tstd = {std:.2f};\"\n",
    "          .format(mean = result.get('test_accuracy').mean()*100,\n",
    "                  std = result.get('test_accuracy').std()))\n",
    "\n",
    "# spoiler it's: 9"
   ],
   "metadata": {
    "collapsed": false,
    "pycharm": {
     "name": "#%%\n"
    }
   }
  },
  {
   "cell_type": "markdown",
   "source": [
    "## Decision Tree Report"
   ],
   "metadata": {
    "collapsed": false
   }
  },
  {
   "cell_type": "code",
   "execution_count": 10,
   "outputs": [
    {
     "name": "stdout",
     "output_type": "stream",
     "text": [
      "                    precision    recall  f1-score   support\n",
      "\n",
      "            LAYING       0.99      1.00      1.00       587\n",
      "        LIE_TO_SIT       0.96      0.88      0.92        26\n",
      "           SITTING       0.90      0.87      0.88       540\n",
      "        SIT_TO_LIE       0.78      0.78      0.78        32\n",
      "      SIT_TO_STAND       0.50      0.40      0.44        10\n",
      "          STANDING       0.89      0.91      0.90       594\n",
      "      STAND_TO_SIT       0.46      0.76      0.57        21\n",
      "           WALKING       0.94      0.94      0.94       517\n",
      "WALKING_DOWNSTAIRS       0.92      0.92      0.92       422\n",
      "  WALKING_UPSTAIRS       0.91      0.90      0.90       463\n",
      "\n",
      "          accuracy                           0.92      3212\n",
      "         macro avg       0.83      0.84      0.83      3212\n",
      "      weighted avg       0.92      0.92      0.92      3212\n",
      "\n"
     ]
    }
   ],
   "source": [
    "X_train, X_test, y_train, y_test = train_test_split(X, y, stratify=y, train_size=0.7, random_state=42)\n",
    "dtree = DecisionTreeClassifier(random_state=42, max_depth=9)\n",
    "dtree.fit(X_train, y_train)\n",
    "y_pred = dtree.predict(X_test)\n",
    "report = classification_report(y_test, y_pred)\n",
    "print(report)"
   ],
   "metadata": {
    "collapsed": false,
    "pycharm": {
     "name": "#%%\n"
    }
   }
  },
  {
   "cell_type": "markdown",
   "source": [
    "## MLP"
   ],
   "metadata": {
    "collapsed": false
   }
  },
  {
   "cell_type": "code",
   "execution_count": 7,
   "outputs": [
    {
     "name": "stdout",
     "output_type": "stream",
     "text": [
      "Hidden Layers = 50:\n",
      "\tf1:\n",
      "\t\tmean = 96.29%;\n",
      "\t\tstd = 0.02;\n",
      "\tbalanced accuracy:\n",
      "\t\tmean = 95.45%;\n",
      "\t\tstd = 0.02;\n",
      "\taccuracy:\n",
      "\t\tmean = 96.31%;\n",
      "\t\tstd = 0.02;\n",
      "Hidden Layers = 100:\n",
      "\tf1:\n",
      "\t\tmean = 96.37%;\n",
      "\t\tstd = 0.02;\n",
      "\tbalanced accuracy:\n",
      "\t\tmean = 95.99%;\n",
      "\t\tstd = 0.02;\n",
      "\taccuracy:\n",
      "\t\tmean = 96.39%;\n",
      "\t\tstd = 0.02;\n",
      "Hidden Layers = 150:\n",
      "\tf1:\n",
      "\t\tmean = 96.28%;\n",
      "\t\tstd = 0.02;\n",
      "\tbalanced accuracy:\n",
      "\t\tmean = 95.89%;\n",
      "\t\tstd = 0.02;\n",
      "\taccuracy:\n",
      "\t\tmean = 96.30%;\n",
      "\t\tstd = 0.02;\n",
      "Hidden Layers = 200:\n",
      "\tf1:\n",
      "\t\tmean = 96.17%;\n",
      "\t\tstd = 0.02;\n",
      "\tbalanced accuracy:\n",
      "\t\tmean = 95.55%;\n",
      "\t\tstd = 0.02;\n",
      "\taccuracy:\n",
      "\t\tmean = 96.20%;\n",
      "\t\tstd = 0.02;\n",
      "Hidden Layers = 250:\n",
      "\tf1:\n",
      "\t\tmean = 96.02%;\n",
      "\t\tstd = 0.02;\n",
      "\tbalanced accuracy:\n",
      "\t\tmean = 95.68%;\n",
      "\t\tstd = 0.02;\n",
      "\taccuracy:\n",
      "\t\tmean = 96.05%;\n",
      "\t\tstd = 0.02;\n",
      "Hidden Layers = 300:\n",
      "\tf1:\n",
      "\t\tmean = 96.08%;\n",
      "\t\tstd = 0.02;\n",
      "\tbalanced accuracy:\n",
      "\t\tmean = 96.04%;\n",
      "\t\tstd = 0.02;\n",
      "\taccuracy:\n",
      "\t\tmean = 96.10%;\n",
      "\t\tstd = 0.02;\n",
      "Hidden Layers = 350:\n",
      "\tf1:\n",
      "\t\tmean = 96.11%;\n",
      "\t\tstd = 0.02;\n",
      "\tbalanced accuracy:\n",
      "\t\tmean = 95.51%;\n",
      "\t\tstd = 0.02;\n",
      "\taccuracy:\n",
      "\t\tmean = 96.13%;\n",
      "\t\tstd = 0.02;\n",
      "Hidden Layers = 400:\n",
      "\tf1:\n",
      "\t\tmean = 96.22%;\n",
      "\t\tstd = 0.02;\n",
      "\tbalanced accuracy:\n",
      "\t\tmean = 95.87%;\n",
      "\t\tstd = 0.02;\n",
      "\taccuracy:\n",
      "\t\tmean = 96.24%;\n",
      "\t\tstd = 0.02;\n",
      "Hidden Layers = 450:\n",
      "\tf1:\n",
      "\t\tmean = 96.21%;\n",
      "\t\tstd = 0.02;\n",
      "\tbalanced accuracy:\n",
      "\t\tmean = 95.77%;\n",
      "\t\tstd = 0.02;\n",
      "\taccuracy:\n",
      "\t\tmean = 96.23%;\n",
      "\t\tstd = 0.02;\n",
      "Hidden Layers = 500:\n",
      "\tf1:\n",
      "\t\tmean = 95.52%;\n",
      "\t\tstd = 0.03;\n",
      "\tbalanced accuracy:\n",
      "\t\tmean = 94.48%;\n",
      "\t\tstd = 0.03;\n",
      "\taccuracy:\n",
      "\t\tmean = 95.51%;\n",
      "\t\tstd = 0.03;\n"
     ]
    }
   ],
   "source": [
    "for i in range(1,11):\n",
    "    mpl = MLPClassifier(activation = 'logistic',\n",
    "                    solver='adam',\n",
    "                    alpha=1e-5,\n",
    "                    learning_rate = 'invscaling',\n",
    "                    max_iter = 500,\n",
    "                    hidden_layer_sizes=(i*50,),\n",
    "                    random_state=42)\n",
    "\n",
    "    result = cross_validate(mpl, X, y, cv=10, scoring=metrics,\n",
    "                            return_train_score=True, n_jobs=-1)\n",
    "    print(\"Hidden Layers = \" + str(mpl.hidden_layer_sizes[0]) + \":\")\n",
    "\n",
    "    print(\"\\tf1:\")\n",
    "    print(\"\\t\\tmean = {mean:.2f}%;\\n\\t\\tstd = {std:.2f};\"\n",
    "        .format(mean = result.get('test_f1_weighted').mean()*100,\n",
    "                std = result.get('test_f1_weighted').std()))\n",
    "\n",
    "    print(\"\\tbalanced accuracy:\")\n",
    "    print(\"\\t\\tmean = {mean:.2f}%;\\n\\t\\tstd = {std:.2f};\"\n",
    "        .format(mean = result.get('test_balanced_accuracy').mean()*100,\n",
    "                std = result.get('test_balanced_accuracy').std()))\n",
    "\n",
    "    print(\"\\taccuracy:\")\n",
    "    print(\"\\t\\tmean = {mean:.2f}%;\\n\\t\\tstd = {std:.2f};\"\n",
    "          .format(mean = result.get('test_accuracy').mean()*100,\n",
    "                  std = result.get('test_accuracy').std()))\n",
    "\n",
    "# best hidden layer size: 100"
   ],
   "metadata": {
    "collapsed": false,
    "pycharm": {
     "name": "#%%\n"
    }
   }
  },
  {
   "cell_type": "markdown",
   "source": [
    "## MLP Report"
   ],
   "metadata": {
    "collapsed": false
   }
  },
  {
   "cell_type": "code",
   "execution_count": 3,
   "outputs": [
    {
     "name": "stdout",
     "output_type": "stream",
     "text": [
      "                    precision    recall  f1-score   support\n",
      "\n",
      "            LAYING       1.00      1.00      1.00       587\n",
      "        LIE_TO_SIT       1.00      1.00      1.00        26\n",
      "           SITTING       0.97      0.95      0.96       540\n",
      "        SIT_TO_LIE       0.97      1.00      0.98        32\n",
      "      SIT_TO_STAND       0.91      1.00      0.95        10\n",
      "          STANDING       0.97      0.98      0.97       594\n",
      "      STAND_TO_SIT       0.89      0.81      0.85        21\n",
      "           WALKING       1.00      1.00      1.00       517\n",
      "WALKING_DOWNSTAIRS       1.00      1.00      1.00       422\n",
      "  WALKING_UPSTAIRS       1.00      1.00      1.00       463\n",
      "\n",
      "          accuracy                           0.99      3212\n",
      "         macro avg       0.97      0.97      0.97      3212\n",
      "      weighted avg       0.99      0.99      0.99      3212\n",
      "\n"
     ]
    }
   ],
   "source": [
    "X_train, X_test, y_train, y_test = train_test_split(X, y, stratify=y, train_size=0.7, random_state=42)\n",
    "mlp = MLPClassifier(activation = 'logistic',\n",
    "                    solver='adam',\n",
    "                    alpha=1e-5,\n",
    "                    learning_rate = 'invscaling',\n",
    "                    max_iter = 500,\n",
    "                    hidden_layer_sizes=(100,),\n",
    "                    random_state=42)\n",
    "mlp.fit(X_train, y_train)\n",
    "y_pred = mlp.predict(X_test)\n",
    "report = classification_report(y_test, y_pred)\n",
    "print(report)"
   ],
   "metadata": {
    "collapsed": false,
    "pycharm": {
     "name": "#%%\n"
    }
   }
  },
  {
   "cell_type": "code",
   "execution_count": 4,
   "outputs": [
    {
     "data": {
      "text/plain": "<matplotlib.axes._subplots.AxesSubplot at 0x7f64bd77f2b0>"
     },
     "execution_count": 4,
     "metadata": {},
     "output_type": "execute_result"
    },
    {
     "data": {
      "text/plain": "<Figure size 936x720 with 2 Axes>",
      "image/png": "[encoded data removed]"
     },
     "metadata": {
      "needs_background": "light"
     },
     "output_type": "display_data"
    }
   ],
   "source": [
    "cf_matrix = confusion_matrix(y_test, y_pred)\n",
    "\n",
    "categories = np.unique(y).tolist()\n",
    "plt.figure(figsize=(13,10))\n",
    "plt.title('Classificação Hierárquica')\n",
    "sns.heatmap(cf_matrix, annot=True, fmt=\"\", cmap='Blues', cbar=True, xticklabels=categories, yticklabels=categories)\n"
   ],
   "metadata": {
    "collapsed": false,
    "pycharm": {
     "name": "#%%\n"
    }
   }
  }
 ],
 "metadata": {
  "kernelspec": {
   "display_name": "Python 3",
   "language": "python",
   "name": "python3"
  },
  "language_info": {
   "codemirror_mode": {
    "name": "ipython",
    "version": 2
   },
   "file_extension": ".py",
   "mimetype": "text/x-python",
   "name": "python",
   "nbconvert_exporter": "python",
   "pygments_lexer": "ipython2",
   "version": "2.7.6"
  }
 },
 "nbformat": 4,
 "nbformat_minor": 0
}