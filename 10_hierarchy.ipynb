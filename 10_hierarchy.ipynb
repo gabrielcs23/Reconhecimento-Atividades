{
 "cells": [
  {
   "cell_type": "code",
   "execution_count": 1,
   "metadata": {
    "pycharm": {
     "name": "#%%\n"
    }
   },
   "outputs": [],
   "source": [
    "import pandas as pd\n",
    "import numpy as np\n",
    "import seaborn as sns\n",
    "import matplotlib.pyplot as plt\n",
    "\n",
    "from sklearn.metrics import classification_report, confusion_matrix\n",
    "from sklearn.model_selection import train_test_split, cross_validate\n",
    "from sklearn.neural_network import MLPClassifier\n",
    "from sklearn.svm import SVC\n",
    "\n",
    "from sklearn_hierarchical_classification.classifier import HierarchicalClassifier\n",
    "from sklearn_hierarchical_classification.constants import ROOT\n",
    "from sklearn_hierarchical_classification.metrics import h_fbeta_score, multi_labeled\n",
    "\n",
    "from imblearn.over_sampling import SMOTE, BorderlineSMOTE\n",
    "from imblearn.pipeline import make_pipeline"
   ]
  },
  {
   "cell_type": "code",
   "execution_count": 2,
   "metadata": {
    "pycharm": {
     "name": "#%%\n"
    }
   },
   "outputs": [],
   "source": [
    "\n",
    "df = pd.read_csv('dataset.csv')\n",
    "X = df.drop(columns=['Activity'])\n",
    "y = df['Activity']\n",
    "\n",
    "metrics = ['f1_weighted', 'balanced_accuracy', 'accuracy']"
   ]
  },
  {
   "cell_type": "code",
   "execution_count": 4,
   "metadata": {
    "pycharm": {
     "name": "#%%\n"
    }
   },
   "outputs": [],
   "source": [
    "'''\n",
    "T  -> Postural Transitions\n",
    "NT -> Non Transitions\n",
    "\n",
    "    <ROOT>\n",
    "   /      \\\n",
    "  T        NT\n",
    " / \\      /  \\\n",
    ".. ..    ..  ..\n",
    "'''\n",
    "class_hierarchy = {\n",
    "    ROOT: [\"T\", \"NT\"],\n",
    "    \"NT\": ['STANDING', 'LAYING', 'SITTING', 'WALKING', 'WALKING_UPSTAIRS', 'WALKING_DOWNSTAIRS'],\n",
    "    \"T\": ['STAND_TO_LIE', 'SIT_TO_LIE', 'LIE_TO_SIT', 'LIE_TO_STAND', 'STAND_TO_SIT', 'SIT_TO_STAND'],\n",
    "}\n",
    "\n",
    "steps = [\n",
    "            SMOTE(random_state=42, n_jobs=-1),\n",
    "            MLPClassifier(activation = 'logistic',\n",
    "                        solver='adam',\n",
    "                        alpha=1e-5,\n",
    "                        learning_rate = 'invscaling',\n",
    "                        max_iter = 600,\n",
    "                        hidden_layer_sizes=(100,),\n",
    "                        random_state=42)\n",
    "]\n",
    "t_clf = make_pipeline(*steps)\n",
    "\n",
    "base_estimator = {\n",
    "    ROOT: SVC(C=100, kernel='rbf', probability=True, random_state=42),\n",
    "    \"NT\": MLPClassifier(activation = 'logistic',\n",
    "                    solver='adam',\n",
    "                    alpha=1e-5,\n",
    "                    learning_rate = 'invscaling',\n",
    "                    max_iter = 500,\n",
    "                    hidden_layer_sizes=(400,),\n",
    "                    random_state=42),\n",
    "    \"T\": t_clf,\n",
    "}\n",
    "\n",
    "clf = HierarchicalClassifier(\n",
    "    base_estimator=base_estimator,\n",
    "    class_hierarchy=class_hierarchy,\n",
    "    prediction_depth='mlnp',\n",
    "    algorithm='lcpn',\n",
    ")"
   ]
  },
  {
   "cell_type": "code",
   "execution_count": 4,
   "metadata": {
    "pycharm": {
     "name": "#%%\n"
    }
   },
   "outputs": [
    {
     "name": "stdout",
     "output_type": "stream",
     "text": [
      "\tf1:\n",
      "\t\tmean = 94.80%;\n",
      "\t\tstd = 0.02;\n",
      "\tbalanced accuracy:\n",
      "\t\tmean = 85.12%;\n",
      "\t\tstd = 0.03;\n",
      "\taccuracy:\n",
      "\t\tmean = 94.84%;\n",
      "\t\tstd = 0.02;\n"
     ]
    }
   ],
   "source": [
    "result = cross_validate(clf, X, y, cv=10, scoring=metrics,\n",
    "                        return_train_score=True, n_jobs=-1)\n",
    "\n",
    "print(\"\\tf1:\")\n",
    "print(\"\\t\\tmean = {mean:.2f}%;\\n\\t\\tstd = {std:.2f};\"\n",
    "    .format(mean = result.get('test_f1_weighted').mean()*100,\n",
    "            std = result.get('test_f1_weighted').std()))\n",
    "\n",
    "print(\"\\tbalanced accuracy:\")\n",
    "print(\"\\t\\tmean = {mean:.2f}%;\\n\\t\\tstd = {std:.2f};\"\n",
    "    .format(mean = result.get('test_balanced_accuracy').mean()*100,\n",
    "            std = result.get('test_balanced_accuracy').std()))\n",
    "\n",
    "print(\"\\taccuracy:\")\n",
    "print(\"\\t\\tmean = {mean:.2f}%;\\n\\t\\tstd = {std:.2f};\"\n",
    "      .format(mean = result.get('test_accuracy').mean()*100,\n",
    "              std = result.get('test_accuracy').std()))"
   ]
  },
  {
   "cell_type": "code",
   "execution_count": 5,
   "metadata": {
    "pycharm": {
     "name": "#%%\n"
    }
   },
   "outputs": [
    {
     "name": "stdout",
     "output_type": "stream",
     "text": [
      "                    precision    recall  f1-score   support\n",
      "\n",
      "            LAYING       1.00      1.00      1.00       587\n",
      "        LIE_TO_SIT       0.78      0.81      0.79        26\n",
      "      LIE_TO_STAND       0.74      0.68      0.71        25\n",
      "           SITTING       0.97      0.96      0.96       540\n",
      "        SIT_TO_LIE       0.71      0.84      0.77        32\n",
      "      SIT_TO_STAND       0.64      0.90      0.75        10\n",
      "          STANDING       0.97      0.98      0.97       594\n",
      "      STAND_TO_LIE       0.89      0.79      0.84        42\n",
      "      STAND_TO_SIT       0.81      0.62      0.70        21\n",
      "           WALKING       1.00      1.00      1.00       517\n",
      "WALKING_DOWNSTAIRS       1.00      1.00      1.00       422\n",
      "  WALKING_UPSTAIRS       0.99      1.00      1.00       463\n",
      "\n",
      "          accuracy                           0.98      3279\n",
      "         macro avg       0.88      0.88      0.87      3279\n",
      "      weighted avg       0.98      0.98      0.98      3279\n",
      "\n"
     ]
    }
   ],
   "source": [
    "X_train, X_test, y_train, y_test = train_test_split(X, y, stratify=y, train_size=0.7, random_state=42)\n",
    "\n",
    "clf.fit(X_train, y_train)\n",
    "y_pred = clf.predict(X_test)\n",
    "\n",
    "print(classification_report(y_test, y_pred))"
   ]
  },
  {
   "cell_type": "code",
   "execution_count": 6,
   "metadata": {
    "pycharm": {
     "name": "#%%\n"
    }
   },
   "outputs": [
    {
     "data": {
      "text/plain": [
       "<matplotlib.axes._subplots.AxesSubplot at 0x7fb17016b250>"
      ]
     },
     "execution_count": 6,
     "metadata": {},
     "output_type": "execute_result"
    },
    {
     "data": {
      "image/png": "[encoded data removed]",
      "text/plain": [
       "<Figure size 936x720 with 2 Axes>"
      ]
     },
     "metadata": {
      "needs_background": "light"
     },
     "output_type": "display_data"
    }
   ],
   "source": [
    "cf_matrix = confusion_matrix(y_test, y_pred)\n",
    "\n",
    "categories = np.unique(y).tolist()\n",
    "plt.figure(figsize=(13,10))\n",
    "plt.title('Classificação Hierárquica')\n",
    "sns.heatmap(cf_matrix, annot=True, fmt=\"\", cmap='Blues', cbar=True, xticklabels=categories, yticklabels=categories)"
   ]
  },
  {
   "cell_type": "code",
   "execution_count": 7,
   "metadata": {
    "pycharm": {
     "name": "#%%\n"
    }
   },
   "outputs": [
    {
     "name": "stdout",
     "output_type": "stream",
     "text": [
      "h_fbeta_score:  0.9993098688750862\n"
     ]
    },
    {
     "name": "stderr",
     "output_type": "stream",
     "text": [
      "/home/gabriel/.pyenv/versions/anaconda3-2020.07/lib/python3.8/site-packages/sklearn/preprocessing/_label.py:994: UserWarning: unknown class(es) ['A', 'D', 'E', 'G', 'I', 'K', 'L', 'N', 'O', 'P', 'R', 'S', 'U', 'W', 'Y', '_'] will be ignored\n",
      "  warnings.warn('unknown class(es) {0} will be ignored'\n"
     ]
    }
   ],
   "source": [
    "with multi_labeled(y_test, y_pred, clf.graph_) as (y_test_, y_pred_, graph_):\n",
    "    h_fbeta = h_fbeta_score(\n",
    "        y_test_,\n",
    "        y_pred_,\n",
    "        graph_,\n",
    "    )\n",
    "    print(\"h_fbeta_score: \", h_fbeta)"
   ]
  },
  {
   "cell_type": "markdown",
   "metadata": {
    "pycharm": {
     "name": "#%% md\n"
    }
   },
   "source": [
    "## Another oversample"
   ]
  },
  {
   "cell_type": "code",
   "execution_count": 5,
   "metadata": {
    "pycharm": {
     "name": "#%%\n"
    }
   },
   "outputs": [],
   "source": [
    "steps = [\n",
    "            BorderlineSMOTE(random_state=42, n_jobs=-1),\n",
    "            MLPClassifier(activation = 'logistic',\n",
    "                        solver='adam',\n",
    "                        alpha=1e-5,\n",
    "                        learning_rate = 'invscaling',\n",
    "                        max_iter = 600,\n",
    "                        hidden_layer_sizes=(125,),\n",
    "                        random_state=42)\n",
    "]\n",
    "t_clf = make_pipeline(*steps)\n",
    "\n",
    "base_estimator = {\n",
    "    ROOT: SVC(C=100, kernel='rbf', probability=True, random_state=42),\n",
    "    \"NT\": MLPClassifier(activation = 'logistic',\n",
    "                    solver='adam',\n",
    "                    alpha=1e-5,\n",
    "                    learning_rate = 'invscaling',\n",
    "                    max_iter = 500,\n",
    "                    hidden_layer_sizes=(400,),\n",
    "                    random_state=42),\n",
    "    \"T\": t_clf,\n",
    "}\n",
    "\n",
    "clf = HierarchicalClassifier(\n",
    "    base_estimator=base_estimator,\n",
    "    class_hierarchy=class_hierarchy,\n",
    "    prediction_depth='mlnp',\n",
    "    algorithm='lcpn',\n",
    ")"
   ]
  }
 ],
 "metadata": {
  "kernelspec": {
   "display_name": "Python 3",
   "language": "python",
   "name": "python3"
  },
  "language_info": {
   "codemirror_mode": {
    "name": "ipython",
    "version": 3
   },
   "file_extension": ".py",
   "mimetype": "text/x-python",
   "name": "python",
   "nbconvert_exporter": "python",
   "pygments_lexer": "ipython3",
   "version": "3.8.3"
  }
 },
 "nbformat": 4,
 "nbformat_minor": 1
}