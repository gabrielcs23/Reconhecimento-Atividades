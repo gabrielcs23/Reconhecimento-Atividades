{
 "cells": [
  {
   "cell_type": "code",
   "execution_count": 9,
   "metadata": {
    "pycharm": {
     "is_executing": false,
     "name": "#%%\n"
    }
   },
   "outputs": [],
   "source": [
    "import pandas as pd\n",
    "import numpy as np\n",
    "import os"
   ]
  },
  {
   "cell_type": "markdown",
   "metadata": {
    "pycharm": {
     "is_executing": false,
     "name": "#%% md\n"
    }
   },
   "source": [
    "## Define file paths"
   ]
  },
  {
   "cell_type": "code",
   "execution_count": 10,
   "metadata": {
    "pycharm": {
     "is_executing": false,
     "name": "#%%\n"
    }
   },
   "outputs": [],
   "source": [
    "base_path = 'dataset'\n",
    "features_path = 'features.txt'\n",
    "labels_path = 'activity_labels.txt' \n",
    "\n",
    "test_path = 'Test/$VAR_test.txt'\n",
    "train_path = 'Train/$VAR_train.txt'"
   ]
  },
  {
   "cell_type": "markdown",
   "metadata": {},
   "source": [
    "## Parse features"
   ]
  },
  {
   "cell_type": "code",
   "execution_count": 11,
   "metadata": {
    "pycharm": {
     "is_executing": false,
     "name": "#%%\n"
    }
   },
   "outputs": [],
   "source": [
    "features = []\n",
    "\n",
    "def replace(item):\n",
    "    if '1' in item:\n",
    "        return item.replace('1', '2')\n",
    "    if '2' in item:\n",
    "        return item.replace('2', '3')\n",
    "\n",
    "def add_feature(item, collec):\n",
    "    if item not in collec:\n",
    "        collec.append(item)\n",
    "    else:\n",
    "        add_feature(replace(item), collec)\n",
    "\n",
    "for item in np.loadtxt(os.path.join(base_path, features_path), dtype=str):\n",
    "    add_feature(item, features)\n",
    "    "
   ]
  },
  {
   "cell_type": "markdown",
   "metadata": {},
   "source": [
    "## Parse activity as {'id', 'label'}"
   ]
  },
  {
   "cell_type": "code",
   "execution_count": 12,
   "metadata": {
    "pycharm": {
     "is_executing": false,
     "name": "#%%\n"
    }
   },
   "outputs": [],
   "source": [
    "labels = dict(np.loadtxt(os.path.join(base_path, labels_path), dtype=str))"
   ]
  },
  {
   "cell_type": "markdown",
   "metadata": {
    "pycharm": {
     "is_executing": false,
     "name": "#%% md\n"
    }
   },
   "source": [
    "## Read Test data"
   ]
  },
  {
   "cell_type": "code",
   "execution_count": 13,
   "metadata": {
    "pycharm": {
     "is_executing": false,
     "name": "#%%\n"
    }
   },
   "outputs": [],
   "source": [
    "test_X = pd.read_csv(\n",
    "    os.path.join(base_path, test_path.replace('$VAR', 'X')),\n",
    "    names=features,\n",
    "    header=None,\n",
    "    sep='\\s+'\n",
    ")\n",
    "\n",
    "test_y = pd.read_csv(\n",
    "    os.path.join(base_path, test_path.replace('$VAR', 'y')),\n",
    "    names=['Activity'],\n",
    "    header=None,\n",
    "    sep='\\s+',\n",
    "    converters={'Activity': lambda a_id: labels[a_id].strip()}\n",
    ")\n",
    "\n",
    "test_data = test_X\n",
    "test_data['Activity'] = test_y"
   ]
  },
  {
   "cell_type": "markdown",
   "metadata": {},
   "source": [
    "## Read Train data"
   ]
  },
  {
   "cell_type": "code",
   "execution_count": 14,
   "metadata": {
    "pycharm": {
     "is_executing": false,
     "name": "#%%\n"
    }
   },
   "outputs": [],
   "source": [
    "train_X = pd.read_csv(\n",
    "    os.path.join(base_path, train_path.replace('$VAR', 'X')),\n",
    "    names=features,\n",
    "    header=None,\n",
    "    sep='\\s+'\n",
    ")\n",
    "\n",
    "train_y = pd.read_csv(\n",
    "    os.path.join(base_path, train_path.replace('$VAR', 'y')),\n",
    "    names=['Activity'],\n",
    "    header=None,\n",
    "    sep='\\s+',\n",
    "    converters={'Activity': lambda a_id: labels[a_id].strip()}\n",
    ")\n",
    "\n",
    "train_data = train_X\n",
    "train_data['Activity'] = train_y"
   ]
  },
  {
   "cell_type": "markdown",
   "metadata": {
    "pycharm": {
     "name": "#%% md\n"
    }
   },
   "source": [
    "## Join dataframe and export"
   ]
  },
  {
   "cell_type": "code",
   "execution_count": 15,
   "metadata": {
    "pycharm": {
     "is_executing": false,
     "name": "#%%\n"
    }
   },
   "outputs": [],
   "source": [
    "df = test_data.append(train_data)\n",
    "df.to_csv('dataset.csv', index=False)\n"
   ]
  }
 ],
 "metadata": {
  "kernelspec": {
   "display_name": "PyCharm (trabalho 2)",
   "language": "python",
   "name": "pycharm-b49af6d5"
  },
  "language_info": {
   "codemirror_mode": {
    "name": "ipython",
    "version": 3
   },
   "file_extension": ".py",
   "mimetype": "text/x-python",
   "name": "python",
   "nbconvert_exporter": "python",
   "pygments_lexer": "ipython3",
   "version": "3.8.3"
  },
  "pycharm": {
   "stem_cell": {
    "cell_type": "raw",
    "metadata": {
     "collapsed": false
    },
    "source": []
   }
  }
 },
 "nbformat": 4,
 "nbformat_minor": 4
}
